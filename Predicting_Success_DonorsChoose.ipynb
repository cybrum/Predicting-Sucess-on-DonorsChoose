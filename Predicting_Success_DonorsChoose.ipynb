{
 "cells": [
  {
   "cell_type": "markdown",
   "metadata": {},
   "source": [
    "## Import Dataset from SQL"
   ]
  },
  {
   "cell_type": "code",
   "execution_count": 1,
   "metadata": {
    "collapsed": false
   },
   "outputs": [],
   "source": [
    "from sqlalchemy import create_engine\n",
    "import pandas as pd"
   ]
  },
  {
   "cell_type": "code",
   "execution_count": 2,
   "metadata": {
    "collapsed": false
   },
   "outputs": [
    {
     "name": "stdout",
     "output_type": "stream",
     "text": [
      "Input something: ········\n"
     ]
    }
   ],
   "source": [
    "import getpass\n",
    "passw = getpass.getpass(\"Input something: \")\n",
    "cnx = create_engine('XXX'%passw)"
   ]
  },
  {
   "cell_type": "code",
   "execution_count": null,
   "metadata": {
    "collapsed": true
   },
   "outputs": [],
   "source": [
    "# initial features: project_resource_type, item_unit_price, item_quantity "
   ]
  },
  {
   "cell_type": "code",
   "execution_count": 4,
   "metadata": {
    "collapsed": false
   },
   "outputs": [
    {
     "data": {
      "text/html": [
       "<div style=\"max-height:1000px;max-width:1500px;overflow:auto;\">\n",
       "<table border=\"1\" class=\"dataframe\">\n",
       "  <thead>\n",
       "    <tr style=\"text-align: right;\">\n",
       "      <th></th>\n",
       "      <th>resourceid</th>\n",
       "      <th>projectid</th>\n",
       "      <th>vendorid</th>\n",
       "      <th>vendor_name</th>\n",
       "      <th>project_resource_type</th>\n",
       "      <th>item_name</th>\n",
       "      <th>item_number</th>\n",
       "      <th>item_unit_price</th>\n",
       "      <th>item_quantity</th>\n",
       "    </tr>\n",
       "  </thead>\n",
       "  <tbody>\n",
       "    <tr>\n",
       "      <th>0</th>\n",
       "      <td> 8a1c1c45bc30d065061912fd9114fcf3</td>\n",
       "      <td> ffffc4f85b60efc5b52347df489d0238</td>\n",
       "      <td> 430</td>\n",
       "      <td>       Woodwind and Brasswind</td>\n",
       "      <td> Technology</td>\n",
       "      <td>                     iPod nano 4th Gen 8GB (Black)</td>\n",
       "      <td> 249995.001</td>\n",
       "      <td> 149.00</td>\n",
       "      <td> 4</td>\n",
       "    </tr>\n",
       "    <tr>\n",
       "      <th>1</th>\n",
       "      <td> 015d2c4935c50427964a12dc3f584091</td>\n",
       "      <td> ffffac55ee02a49d1abc87ba6fc61135</td>\n",
       "      <td>  82</td>\n",
       "      <td>        Best Buy for Business</td>\n",
       "      <td> Technology</td>\n",
       "      <td> Sony bloggie MHS-FS1 - camcorder - internal fl...</td>\n",
       "      <td> BB11216668</td>\n",
       "      <td> 148.00</td>\n",
       "      <td> 1</td>\n",
       "    </tr>\n",
       "    <tr>\n",
       "      <th>2</th>\n",
       "      <td> 26a02944b2f0c25f9abdeacca3ede3ee</td>\n",
       "      <td> ffff97ed93720407d70a2787475932b0</td>\n",
       "      <td> 767</td>\n",
       "      <td> Lakeshore Learning Materials</td>\n",
       "      <td>   Supplies</td>\n",
       "      <td>     VX748 - Best-Buy Jumbo Crayons - 12-Color Box</td>\n",
       "      <td>      VX748</td>\n",
       "      <td>  69.95</td>\n",
       "      <td> 1</td>\n",
       "    </tr>\n",
       "    <tr>\n",
       "      <th>3</th>\n",
       "      <td> 7fef1f92cb4447d18d599f69ea27e833</td>\n",
       "      <td> ffff97ed93720407d70a2787475932b0</td>\n",
       "      <td> 767</td>\n",
       "      <td> Lakeshore Learning Materials</td>\n",
       "      <td>   Supplies</td>\n",
       "      <td> LA138 - Best-Buy Write &amp; Wipe Broad-Tip Marker...</td>\n",
       "      <td>      LA138</td>\n",
       "      <td>  34.95</td>\n",
       "      <td> 1</td>\n",
       "    </tr>\n",
       "    <tr>\n",
       "      <th>4</th>\n",
       "      <td> 8dccf77df25ee615bb1a68b98ba9d861</td>\n",
       "      <td> ffff97ed93720407d70a2787475932b0</td>\n",
       "      <td> 767</td>\n",
       "      <td> Lakeshore Learning Materials</td>\n",
       "      <td>   Supplies</td>\n",
       "      <td>            BJ7471 - 1 1/2&amp;#34; Ruled Chart Tablet</td>\n",
       "      <td>     BJ7471</td>\n",
       "      <td>  10.95</td>\n",
       "      <td> 4</td>\n",
       "    </tr>\n",
       "  </tbody>\n",
       "</table>\n",
       "</div>"
      ],
      "text/plain": [
       "                         resourceid                         projectid  \\\n",
       "0  8a1c1c45bc30d065061912fd9114fcf3  ffffc4f85b60efc5b52347df489d0238   \n",
       "1  015d2c4935c50427964a12dc3f584091  ffffac55ee02a49d1abc87ba6fc61135   \n",
       "2  26a02944b2f0c25f9abdeacca3ede3ee  ffff97ed93720407d70a2787475932b0   \n",
       "3  7fef1f92cb4447d18d599f69ea27e833  ffff97ed93720407d70a2787475932b0   \n",
       "4  8dccf77df25ee615bb1a68b98ba9d861  ffff97ed93720407d70a2787475932b0   \n",
       "\n",
       "  vendorid                   vendor_name project_resource_type  \\\n",
       "0      430        Woodwind and Brasswind            Technology   \n",
       "1       82         Best Buy for Business            Technology   \n",
       "2      767  Lakeshore Learning Materials              Supplies   \n",
       "3      767  Lakeshore Learning Materials              Supplies   \n",
       "4      767  Lakeshore Learning Materials              Supplies   \n",
       "\n",
       "                                           item_name item_number  \\\n",
       "0                      iPod nano 4th Gen 8GB (Black)  249995.001   \n",
       "1  Sony bloggie MHS-FS1 - camcorder - internal fl...  BB11216668   \n",
       "2      VX748 - Best-Buy Jumbo Crayons - 12-Color Box       VX748   \n",
       "3  LA138 - Best-Buy Write & Wipe Broad-Tip Marker...       LA138   \n",
       "4             BJ7471 - 1 1/2&#34; Ruled Chart Tablet      BJ7471   \n",
       "\n",
       "   item_unit_price  item_quantity  \n",
       "0           149.00              4  \n",
       "1           148.00              1  \n",
       "2            69.95              1  \n",
       "3            34.95              1  \n",
       "4            10.95              4  "
      ]
     },
     "execution_count": 4,
     "metadata": {},
     "output_type": "execute_result"
    }
   ],
   "source": [
    "pd.read_sql_query('''SELECT * FROM resources LIMIT 5''', cnx)"
   ]
  },
  {
   "cell_type": "code",
   "execution_count": 7,
   "metadata": {
    "collapsed": false
   },
   "outputs": [],
   "source": [
    "merged_data = pd.read_sql_query('''SELECT projects.*, outcomes.is_exciting\n",
    "FROM projects LEFT JOIN outcomes ON outcomes.projectid = projects.projectid''', cnx)"
   ]
  },
  {
   "cell_type": "markdown",
   "metadata": {},
   "source": [
    "#### Pickle the data"
   ]
  },
  {
   "cell_type": "code",
   "execution_count": 8,
   "metadata": {
    "collapsed": true
   },
   "outputs": [],
   "source": [
    "import pickle\n",
    "\n",
    "with open('donor_choose.pkl', 'w') as picklefile:\n",
    "    pickle.dump(merged_data, picklefile)"
   ]
  },
  {
   "cell_type": "code",
   "execution_count": 113,
   "metadata": {
    "collapsed": false
   },
   "outputs": [],
   "source": [
    "import pickle\n",
    "\n",
    "with open(\"donor_choose.pkl\", 'r') as picklefile: \n",
    "    merged_data = pickle.load(picklefile)"
   ]
  },
  {
   "cell_type": "code",
   "execution_count": 5,
   "metadata": {
    "collapsed": false
   },
   "outputs": [
    {
     "data": {
      "text/html": [
       "<div>\n",
       "<table border=\"1\" class=\"dataframe\">\n",
       "  <thead>\n",
       "    <tr style=\"text-align: right;\">\n",
       "      <th></th>\n",
       "      <th>projectid</th>\n",
       "      <th>teacher_acctid</th>\n",
       "      <th>schoolid</th>\n",
       "      <th>school_ncesid</th>\n",
       "      <th>school_latitude</th>\n",
       "      <th>school_longitude</th>\n",
       "      <th>school_city</th>\n",
       "      <th>school_state</th>\n",
       "      <th>school_zip</th>\n",
       "      <th>school_metro</th>\n",
       "      <th>...</th>\n",
       "      <th>poverty_level</th>\n",
       "      <th>grade_level</th>\n",
       "      <th>fulfillment_labor_materials</th>\n",
       "      <th>total_price_excluding_optional_support</th>\n",
       "      <th>total_price_including_optional_support</th>\n",
       "      <th>students_reached</th>\n",
       "      <th>eligible_double_your_impact_match</th>\n",
       "      <th>eligible_almost_home_match</th>\n",
       "      <th>date_posted</th>\n",
       "      <th>is_exciting</th>\n",
       "    </tr>\n",
       "  </thead>\n",
       "  <tbody>\n",
       "    <tr>\n",
       "      <th>0</th>\n",
       "      <td>ffafbe48f4343c2ef45cd912f1a65dbb</td>\n",
       "      <td>7feca507d6836eb776aaa2c80dd5f528</td>\n",
       "      <td>85fb0670a3d4a8ec9719f16c7e441e0d</td>\n",
       "      <td>120120003731</td>\n",
       "      <td>30.469341</td>\n",
       "      <td>-83.381228</td>\n",
       "      <td>Madison</td>\n",
       "      <td>FL</td>\n",
       "      <td>32340</td>\n",
       "      <td>rural</td>\n",
       "      <td>...</td>\n",
       "      <td>highest poverty</td>\n",
       "      <td>Grades PreK-2</td>\n",
       "      <td>30.00</td>\n",
       "      <td>366.01</td>\n",
       "      <td>430.60</td>\n",
       "      <td>20.0</td>\n",
       "      <td>False</td>\n",
       "      <td>False</td>\n",
       "      <td>2013-08-06</td>\n",
       "      <td>False</td>\n",
       "    </tr>\n",
       "    <tr>\n",
       "      <th>1</th>\n",
       "      <td>ffa64e5863f02f6e82107201b7498538</td>\n",
       "      <td>e7a30d89c45f32e9f97afff4aa4cd469</td>\n",
       "      <td>c94c6aeb1763861f8db019fc7151821a</td>\n",
       "      <td>261539005198</td>\n",
       "      <td>43.131977</td>\n",
       "      <td>-86.163722</td>\n",
       "      <td>Fruitport</td>\n",
       "      <td>MI</td>\n",
       "      <td>49415</td>\n",
       "      <td>suburban</td>\n",
       "      <td>...</td>\n",
       "      <td>high poverty</td>\n",
       "      <td>Grades 3-5</td>\n",
       "      <td>17.00</td>\n",
       "      <td>198.00</td>\n",
       "      <td>241.46</td>\n",
       "      <td>52.0</td>\n",
       "      <td>False</td>\n",
       "      <td>False</td>\n",
       "      <td>2008-10-11</td>\n",
       "      <td>False</td>\n",
       "    </tr>\n",
       "    <tr>\n",
       "      <th>2</th>\n",
       "      <td>ffa49dd7ee05da6f63d61df6c5c4c7ed</td>\n",
       "      <td>5aa172bf137e63517f7157f05b0335ac</td>\n",
       "      <td>4f12c3fa0c1cce823c7ba1df57e90ccb</td>\n",
       "      <td>360015302507</td>\n",
       "      <td>40.641727</td>\n",
       "      <td>-73.965655</td>\n",
       "      <td>Brooklyn</td>\n",
       "      <td>NY</td>\n",
       "      <td>11226</td>\n",
       "      <td>urban</td>\n",
       "      <td>...</td>\n",
       "      <td>highest poverty</td>\n",
       "      <td>Grades PreK-2</td>\n",
       "      <td>9.00</td>\n",
       "      <td>181.55</td>\n",
       "      <td>221.40</td>\n",
       "      <td>28.0</td>\n",
       "      <td>False</td>\n",
       "      <td>False</td>\n",
       "      <td>2009-11-08</td>\n",
       "      <td>False</td>\n",
       "    </tr>\n",
       "    <tr>\n",
       "      <th>3</th>\n",
       "      <td>ff7eeec00b853c2ea8138fca67efca64</td>\n",
       "      <td>106e0898e06f75596e7f6e7b39159966</td>\n",
       "      <td>f83867a3e8e56c3a658ee0d5b7a8edb7</td>\n",
       "      <td>280348001236</td>\n",
       "      <td>30.424347</td>\n",
       "      <td>-88.630137</td>\n",
       "      <td>Gautier</td>\n",
       "      <td>MS</td>\n",
       "      <td>39553</td>\n",
       "      <td>None</td>\n",
       "      <td>...</td>\n",
       "      <td>highest poverty</td>\n",
       "      <td>Grades 3-5</td>\n",
       "      <td>30.00</td>\n",
       "      <td>733.88</td>\n",
       "      <td>863.39</td>\n",
       "      <td>40.0</td>\n",
       "      <td>False</td>\n",
       "      <td>False</td>\n",
       "      <td>2012-09-04</td>\n",
       "      <td>False</td>\n",
       "    </tr>\n",
       "    <tr>\n",
       "      <th>4</th>\n",
       "      <td>ff6a35480c9b8925c80e99d2d8810a89</td>\n",
       "      <td>c6949e3c657f9d35f82f176a22548dcc</td>\n",
       "      <td>46f95d43009aa59a319f81b07e573e74</td>\n",
       "      <td>482985007833</td>\n",
       "      <td>33.198306</td>\n",
       "      <td>-96.730307</td>\n",
       "      <td>Mckinney</td>\n",
       "      <td>TX</td>\n",
       "      <td>75070</td>\n",
       "      <td>rural</td>\n",
       "      <td>...</td>\n",
       "      <td>low poverty</td>\n",
       "      <td>Grades 3-5</td>\n",
       "      <td>30.00</td>\n",
       "      <td>654.36</td>\n",
       "      <td>769.84</td>\n",
       "      <td>50.0</td>\n",
       "      <td>False</td>\n",
       "      <td>False</td>\n",
       "      <td>2012-04-03</td>\n",
       "      <td>False</td>\n",
       "    </tr>\n",
       "  </tbody>\n",
       "</table>\n",
       "<p>5 rows × 36 columns</p>\n",
       "</div>"
      ],
      "text/plain": [
       "                          projectid                    teacher_acctid  \\\n",
       "0  ffafbe48f4343c2ef45cd912f1a65dbb  7feca507d6836eb776aaa2c80dd5f528   \n",
       "1  ffa64e5863f02f6e82107201b7498538  e7a30d89c45f32e9f97afff4aa4cd469   \n",
       "2  ffa49dd7ee05da6f63d61df6c5c4c7ed  5aa172bf137e63517f7157f05b0335ac   \n",
       "3  ff7eeec00b853c2ea8138fca67efca64  106e0898e06f75596e7f6e7b39159966   \n",
       "4  ff6a35480c9b8925c80e99d2d8810a89  c6949e3c657f9d35f82f176a22548dcc   \n",
       "\n",
       "                           schoolid school_ncesid  school_latitude  \\\n",
       "0  85fb0670a3d4a8ec9719f16c7e441e0d  120120003731        30.469341   \n",
       "1  c94c6aeb1763861f8db019fc7151821a  261539005198        43.131977   \n",
       "2  4f12c3fa0c1cce823c7ba1df57e90ccb  360015302507        40.641727   \n",
       "3  f83867a3e8e56c3a658ee0d5b7a8edb7  280348001236        30.424347   \n",
       "4  46f95d43009aa59a319f81b07e573e74  482985007833        33.198306   \n",
       "\n",
       "   school_longitude school_city school_state school_zip school_metro  \\\n",
       "0        -83.381228     Madison           FL      32340        rural   \n",
       "1        -86.163722   Fruitport           MI      49415     suburban   \n",
       "2        -73.965655    Brooklyn           NY      11226        urban   \n",
       "3        -88.630137     Gautier           MS      39553         None   \n",
       "4        -96.730307    Mckinney           TX      75070        rural   \n",
       "\n",
       "      ...        poverty_level    grade_level fulfillment_labor_materials  \\\n",
       "0     ...      highest poverty  Grades PreK-2                       30.00   \n",
       "1     ...         high poverty     Grades 3-5                       17.00   \n",
       "2     ...      highest poverty  Grades PreK-2                        9.00   \n",
       "3     ...      highest poverty     Grades 3-5                       30.00   \n",
       "4     ...          low poverty     Grades 3-5                       30.00   \n",
       "\n",
       "  total_price_excluding_optional_support  \\\n",
       "0                                 366.01   \n",
       "1                                 198.00   \n",
       "2                                 181.55   \n",
       "3                                 733.88   \n",
       "4                                 654.36   \n",
       "\n",
       "  total_price_including_optional_support students_reached  \\\n",
       "0                                 430.60             20.0   \n",
       "1                                 241.46             52.0   \n",
       "2                                 221.40             28.0   \n",
       "3                                 863.39             40.0   \n",
       "4                                 769.84             50.0   \n",
       "\n",
       "  eligible_double_your_impact_match eligible_almost_home_match date_posted  \\\n",
       "0                             False                      False  2013-08-06   \n",
       "1                             False                      False  2008-10-11   \n",
       "2                             False                      False  2009-11-08   \n",
       "3                             False                      False  2012-09-04   \n",
       "4                             False                      False  2012-04-03   \n",
       "\n",
       "  is_exciting  \n",
       "0       False  \n",
       "1       False  \n",
       "2       False  \n",
       "3       False  \n",
       "4       False  \n",
       "\n",
       "[5 rows x 36 columns]"
      ]
     },
     "execution_count": 5,
     "metadata": {},
     "output_type": "execute_result"
    }
   ],
   "source": [
    "merged_data.head()"
   ]
  },
  {
   "cell_type": "code",
   "execution_count": 6,
   "metadata": {
    "collapsed": false,
    "scrolled": true
   },
   "outputs": [
    {
     "data": {
      "text/plain": [
       "Index([u'projectid', u'teacher_acctid', u'schoolid', u'school_ncesid',\n",
       "       u'school_latitude', u'school_longitude', u'school_city',\n",
       "       u'school_state', u'school_zip', u'school_metro', u'school_district',\n",
       "       u'school_county', u'school_charter', u'school_magnet',\n",
       "       u'school_year_round', u'school_nlns', u'school_kipp',\n",
       "       u'school_charter_ready_promise', u'teacher_prefix',\n",
       "       u'teacher_teach_for_america', u'teacher_ny_teaching_fellow',\n",
       "       u'primary_focus_subject', u'primary_focus_area',\n",
       "       u'secondary_focus_subject', u'secondary_focus_area', u'resource_type',\n",
       "       u'poverty_level', u'grade_level', u'fulfillment_labor_materials',\n",
       "       u'total_price_excluding_optional_support',\n",
       "       u'total_price_including_optional_support', u'students_reached',\n",
       "       u'eligible_double_your_impact_match', u'eligible_almost_home_match',\n",
       "       u'date_posted', u'is_exciting'],\n",
       "      dtype='object')"
      ]
     },
     "execution_count": 6,
     "metadata": {},
     "output_type": "execute_result"
    }
   ],
   "source": [
    "merged_data.columns"
   ]
  },
  {
   "cell_type": "code",
   "execution_count": 7,
   "metadata": {
    "collapsed": false
   },
   "outputs": [
    {
     "data": {
      "text/plain": [
       "664098"
      ]
     },
     "execution_count": 7,
     "metadata": {},
     "output_type": "execute_result"
    }
   ],
   "source": [
    "len(merged_data)"
   ]
  },
  {
   "cell_type": "code",
   "execution_count": 8,
   "metadata": {
    "collapsed": false,
    "scrolled": true
   },
   "outputs": [
    {
     "name": "stdout",
     "output_type": "stream",
     "text": [
      "44772\n"
     ]
    }
   ],
   "source": [
    "print pd.isnull(merged_data['is_exciting']).sum()"
   ]
  },
  {
   "cell_type": "markdown",
   "metadata": {},
   "source": [
    "We have 44772 without our outcome variable, this will be our submission set. "
   ]
  },
  {
   "cell_type": "code",
   "execution_count": 117,
   "metadata": {
    "collapsed": true
   },
   "outputs": [],
   "source": [
    "submission_set = merged_data[pd.isnull(merged_data['is_exciting'])]"
   ]
  },
  {
   "cell_type": "code",
   "execution_count": 118,
   "metadata": {
    "collapsed": false
   },
   "outputs": [
    {
     "data": {
      "text/plain": [
       "44772"
      ]
     },
     "execution_count": 118,
     "metadata": {},
     "output_type": "execute_result"
    }
   ],
   "source": [
    "len(submission_set)"
   ]
  },
  {
   "cell_type": "markdown",
   "metadata": {},
   "source": [
    "#### Make submission set only with variables we need"
   ]
  },
  {
   "cell_type": "code",
   "execution_count": 119,
   "metadata": {
    "collapsed": false
   },
   "outputs": [
    {
     "name": "stderr",
     "output_type": "stream",
     "text": [
      "/anaconda/lib/python2.7/site-packages/ipykernel/__main__.py:2: SettingWithCopyWarning: \n",
      "A value is trying to be set on a copy of a slice from a DataFrame.\n",
      "Try using .loc[row_indexer,col_indexer] = value instead\n",
      "\n",
      "See the caveats in the documentation: http://pandas.pydata.org/pandas-docs/stable/indexing.html#indexing-view-versus-copy\n",
      "  from ipykernel import kernelapp as app\n",
      "/anaconda/lib/python2.7/site-packages/ipykernel/__main__.py:4: SettingWithCopyWarning: \n",
      "A value is trying to be set on a copy of a slice from a DataFrame.\n",
      "Try using .loc[row_indexer,col_indexer] = value instead\n",
      "\n",
      "See the caveats in the documentation: http://pandas.pydata.org/pandas-docs/stable/indexing.html#indexing-view-versus-copy\n"
     ]
    }
   ],
   "source": [
    "conv_grade_dict = {'Grades PreK-2' : 1.,'Grades 3-5' : 2.,'Grades 6-8':3.,'Grades 9-12':4.,'None':np.nan}\n",
    "submission_set['grade_level'] = submission_set[\"grade_level\"].apply(conv_grade_dict.get)\n",
    "conv_poverty_dict = {'low poverty' : 1.,'moderate poverty' : 2.,'high poverty':3.,'highest poverty':4.,'None':np.nan}\n",
    "submission_set['poverty_level'] = submission_set[\"poverty_level\"].apply(conv_poverty_dict.get)"
   ]
  },
  {
   "cell_type": "code",
   "execution_count": 120,
   "metadata": {
    "collapsed": false
   },
   "outputs": [],
   "source": [
    "sub_set = pd.concat([submission_set.loc[:,'school_charter':'school_charter_ready_promise'].astype(int), \n",
    "                  pd.get_dummies(submission_set.loc[:, ['school_state', 'school_metro', 'teacher_prefix', \n",
    "                 'primary_focus_subject', 'secondary_focus_subject', \n",
    "                  'primary_focus_area', 'secondary_focus_area', 'resource_type']]), \n",
    "                   submission_set.loc[:, 'teacher_teach_for_america'], \n",
    "                    submission_set.loc[:, ['students_reached', 'poverty_level', \n",
    "                                        'grade_level', 'total_price_excluding_optional_support']]], axis = 1)"
   ]
  },
  {
   "cell_type": "code",
   "execution_count": 11,
   "metadata": {
    "collapsed": true
   },
   "outputs": [],
   "source": [
    "merged_data = merged_data[pd.isnull(merged_data['is_exciting']) == False]"
   ]
  },
  {
   "cell_type": "code",
   "execution_count": 12,
   "metadata": {
    "collapsed": false
   },
   "outputs": [
    {
     "data": {
      "text/plain": [
       "619326"
      ]
     },
     "execution_count": 12,
     "metadata": {},
     "output_type": "execute_result"
    }
   ],
   "source": [
    "len(merged_data)"
   ]
  },
  {
   "cell_type": "markdown",
   "metadata": {},
   "source": [
    "## Explore Binary Variables"
   ]
  },
  {
   "cell_type": "code",
   "execution_count": 13,
   "metadata": {
    "collapsed": false
   },
   "outputs": [],
   "source": [
    "import seaborn as sns\n",
    "%matplotlib inline\n",
    "import numpy as np\n",
    "from sklearn.cross_validation import cross_val_score\n",
    "from sklearn.naive_bayes import GaussianNB\n",
    "from sklearn.svm import SVC\n",
    "from sklearn.tree import DecisionTreeClassifier\n",
    "from sklearn.ensemble import RandomForestClassifier\n",
    "from sklearn.metrics import accuracy_score\n",
    "from sklearn.metrics import roc_auc_score\n",
    "from patsy import dmatrices\n",
    "from sklearn.metrics import roc_auc_score\n",
    "from sklearn.metrics import recall_score\n",
    "from sklearn.metrics import precision_recall_fscore_support\n",
    "from sklearn.metrics import confusion_matrix\n",
    "from sklearn.cross_validation import train_test_split\n",
    "from sklearn.metrics import accuracy_score"
   ]
  },
  {
   "cell_type": "code",
   "execution_count": 15,
   "metadata": {
    "collapsed": false
   },
   "outputs": [],
   "source": [
    "mask = list(merged_data.ix[:,'school_charter': \"teacher_ny_teaching_fellow\"].columns) + \\\n",
    "['is_exciting'] + [\"eligible_double_your_impact_match\"] + ['eligible_almost_home_match']"
   ]
  },
  {
   "cell_type": "code",
   "execution_count": 16,
   "metadata": {
    "collapsed": false
   },
   "outputs": [],
   "source": [
    "binary_features = merged_data[mask]"
   ]
  },
  {
   "cell_type": "code",
   "execution_count": 17,
   "metadata": {
    "collapsed": false
   },
   "outputs": [
    {
     "data": {
      "text/html": [
       "<div>\n",
       "<table border=\"1\" class=\"dataframe\">\n",
       "  <thead>\n",
       "    <tr style=\"text-align: right;\">\n",
       "      <th></th>\n",
       "      <th>school_charter</th>\n",
       "      <th>school_magnet</th>\n",
       "      <th>school_year_round</th>\n",
       "      <th>school_nlns</th>\n",
       "      <th>school_kipp</th>\n",
       "      <th>school_charter_ready_promise</th>\n",
       "      <th>teacher_teach_for_america</th>\n",
       "      <th>teacher_ny_teaching_fellow</th>\n",
       "      <th>eligible_double_your_impact_match</th>\n",
       "      <th>eligible_almost_home_match</th>\n",
       "    </tr>\n",
       "    <tr>\n",
       "      <th>is_exciting</th>\n",
       "      <th></th>\n",
       "      <th></th>\n",
       "      <th></th>\n",
       "      <th></th>\n",
       "      <th></th>\n",
       "      <th></th>\n",
       "      <th></th>\n",
       "      <th></th>\n",
       "      <th></th>\n",
       "      <th></th>\n",
       "    </tr>\n",
       "  </thead>\n",
       "  <tbody>\n",
       "    <tr>\n",
       "      <th>False</th>\n",
       "      <td>0.082919</td>\n",
       "      <td>0.094649</td>\n",
       "      <td>0.050520</td>\n",
       "      <td>0.015209</td>\n",
       "      <td>0.006359</td>\n",
       "      <td>0.004960</td>\n",
       "      <td>0.055273</td>\n",
       "      <td>0.018036</td>\n",
       "      <td>0.277435</td>\n",
       "      <td>0.060752</td>\n",
       "    </tr>\n",
       "    <tr>\n",
       "      <th>True</th>\n",
       "      <td>0.138218</td>\n",
       "      <td>0.091828</td>\n",
       "      <td>0.043966</td>\n",
       "      <td>0.019804</td>\n",
       "      <td>0.013321</td>\n",
       "      <td>0.007246</td>\n",
       "      <td>0.105748</td>\n",
       "      <td>0.015336</td>\n",
       "      <td>0.263825</td>\n",
       "      <td>0.056143</td>\n",
       "    </tr>\n",
       "  </tbody>\n",
       "</table>\n",
       "</div>"
      ],
      "text/plain": [
       "             school_charter  school_magnet  school_year_round  school_nlns  \\\n",
       "is_exciting                                                                  \n",
       "False              0.082919       0.094649           0.050520     0.015209   \n",
       "True               0.138218       0.091828           0.043966     0.019804   \n",
       "\n",
       "             school_kipp  school_charter_ready_promise  \\\n",
       "is_exciting                                              \n",
       "False           0.006359                      0.004960   \n",
       "True            0.013321                      0.007246   \n",
       "\n",
       "             teacher_teach_for_america  teacher_ny_teaching_fellow  \\\n",
       "is_exciting                                                          \n",
       "False                         0.055273                    0.018036   \n",
       "True                          0.105748                    0.015336   \n",
       "\n",
       "             eligible_double_your_impact_match  eligible_almost_home_match  \n",
       "is_exciting                                                                 \n",
       "False                                 0.277435                    0.060752  \n",
       "True                                  0.263825                    0.056143  "
      ]
     },
     "execution_count": 17,
     "metadata": {},
     "output_type": "execute_result"
    }
   ],
   "source": [
    "binary_features.groupby(\"is_exciting\").mean()"
   ]
  },
  {
   "cell_type": "markdown",
   "metadata": {},
   "source": [
    "First glance, looks like teach for america, charter, and being a KIPP school makes it more likely project will be \"exciting.\" Suprisingly, eligible does not seem to."
   ]
  },
  {
   "cell_type": "markdown",
   "metadata": {},
   "source": [
    "## Run Some Initial Models"
   ]
  },
  {
   "cell_type": "markdown",
   "metadata": {},
   "source": [
    "#### Convert ordinal variables to numbers"
   ]
  },
  {
   "cell_type": "code",
   "execution_count": 18,
   "metadata": {
    "collapsed": true
   },
   "outputs": [],
   "source": [
    "conv_grade_dict = {'Grades PreK-2' : 1.,'Grades 3-5' : 2.,'Grades 6-8':3.,'Grades 9-12':4.,'None':np.nan}\n",
    "merged_data['grade_level'] = merged_data[\"grade_level\"].apply(conv_grade_dict.get)\n",
    "conv_poverty_dict = {'low poverty' : 1.,'moderate poverty' : 2.,'high poverty':3.,'highest poverty':4.,'None':np.nan}\n",
    "merged_data['poverty_level'] = merged_data[\"poverty_level\"].apply(conv_poverty_dict.get)"
   ]
  },
  {
   "cell_type": "markdown",
   "metadata": {},
   "source": [
    "#### Change is_exciting to integer"
   ]
  },
  {
   "cell_type": "code",
   "execution_count": 19,
   "metadata": {
    "collapsed": true
   },
   "outputs": [],
   "source": [
    "merged_data.is_exciting = merged_data.is_exciting.astype(int)"
   ]
  },
  {
   "cell_type": "code",
   "execution_count": 20,
   "metadata": {
    "collapsed": false
   },
   "outputs": [],
   "source": [
    "X_and_y = pd.concat([merged_data.loc[:,'school_charter':'school_charter_ready_promise'].astype(int), \n",
    "                  pd.get_dummies(merged_data.loc[:, ['school_state', 'school_metro', 'teacher_prefix', \n",
    "                 'primary_focus_subject', 'secondary_focus_subject', \n",
    "                  'primary_focus_area', 'secondary_focus_area', 'resource_type']]), \n",
    "                   merged_data.loc[:, 'teacher_teach_for_america'], \n",
    "                    merged_data.loc[:, ['students_reached', 'poverty_level', \n",
    "                                        'grade_level', 'total_price_excluding_optional_support']], \n",
    "              merged_data[\"is_exciting\"]], axis = 1)"
   ]
  },
  {
   "cell_type": "code",
   "execution_count": 21,
   "metadata": {
    "collapsed": true
   },
   "outputs": [],
   "source": [
    "X_and_y = X_and_y.dropna()"
   ]
  },
  {
   "cell_type": "code",
   "execution_count": 22,
   "metadata": {
    "collapsed": true
   },
   "outputs": [],
   "source": [
    "X, y = X_and_y.drop(\"is_exciting\", 1) , X_and_y[\"is_exciting\"]"
   ]
  },
  {
   "cell_type": "markdown",
   "metadata": {},
   "source": [
    "### Do undersampling"
   ]
  },
  {
   "cell_type": "code",
   "execution_count": 25,
   "metadata": {
    "collapsed": false
   },
   "outputs": [],
   "source": [
    "x_train, x_test, y_train, y_test = train_test_split(X, y)"
   ]
  },
  {
   "cell_type": "code",
   "execution_count": 26,
   "metadata": {
    "collapsed": false
   },
   "outputs": [],
   "source": [
    "from imblearn.under_sampling import RandomUnderSampler\n",
    "# Generate the new dataset using under-sampling method\n",
    "verbose = False\n",
    "# 'Random under-sampling'\n",
    "US = RandomUnderSampler()\n",
    "usx_train, usy_train = US.fit_sample(x_train, y_train)"
   ]
  },
  {
   "cell_type": "code",
   "execution_count": 84,
   "metadata": {
    "collapsed": false
   },
   "outputs": [
    {
     "name": "stdout",
     "output_type": "stream",
     "text": [
      "0.059270042185\n",
      "0.0592784004651\n"
     ]
    }
   ],
   "source": [
    "print float(y_train.sum())/len(y_train)\n",
    "print float(y_test.sum())/len(y_test)"
   ]
  },
  {
   "cell_type": "code",
   "execution_count": 29,
   "metadata": {
    "collapsed": false
   },
   "outputs": [
    {
     "name": "stdout",
     "output_type": "stream",
     "text": [
      "464383\n",
      "55048\n",
      "55048\n",
      "464383\n",
      "27524\n",
      "27524\n"
     ]
    }
   ],
   "source": [
    "print len(x_train)\n",
    "print len(usx_train)\n",
    "print len(usy_train)\n",
    "print len(y_train)\n",
    "print y_train.sum()\n",
    "print usy_train.sum()"
   ]
  },
  {
   "cell_type": "markdown",
   "metadata": {},
   "source": [
    "#### Drastically reduced size of training set while keeping number of positives the same (making them half) "
   ]
  },
  {
   "cell_type": "markdown",
   "metadata": {},
   "source": [
    "### Logistic Regression"
   ]
  },
  {
   "cell_type": "code",
   "execution_count": 108,
   "metadata": {
    "collapsed": false
   },
   "outputs": [
    {
     "name": "stdout",
     "output_type": "stream",
     "text": [
      "0.375651668336\n",
      "0.602894308407\n",
      "0.56076519077\n",
      "0.770986585894\n",
      "0.94028230886\n",
      "0.613971056199\n",
      "0.5\n",
      "0.0\n"
     ]
    }
   ],
   "source": [
    "from sklearn.linear_model import LogisticRegression\n",
    "lr = LogisticRegression(class_weight = {0:.05, 1:.95})\n",
    "lr2 = LogisticRegression()\n",
    "lr2.fit(x_train, y_train)\n",
    "lr.fit(x_train, y_train)\n",
    "print accuracy_score(y_test, lr.predict(x_test))\n",
    "print roc_auc_score(y_test, lr.predict_proba(x_test)[:,1])\n",
    "print recall_score(y_test, lr.predict(x_test))\n",
    "print accuracy_score(y_test, lr2.predict(x_test))\n",
    "print roc_auc_score(y_test, lr2.predict_proba(x_test)[:,1])\n",
    "print recall_score(y_test, lr2.predict(x_test))"
   ]
  },
  {
   "cell_type": "code",
   "execution_count": 30,
   "metadata": {
    "collapsed": false
   },
   "outputs": [
    {
     "name": "stdout",
     "output_type": "stream",
     "text": [
      "0.613734293743\n",
      "0.609795155776\n",
      "0.537162162162\n"
     ]
    }
   ],
   "source": [
    "lr = LogisticRegression()\n",
    "lr.fit(usx_train, usy_train)\n",
    "print accuracy_score(y_test, lr.predict(x_test))\n",
    "print roc_auc_score(y_test, lr.predict_proba(x_test)[:,1])\n",
    "print recall_score(y_test, lr.predict(x_test))"
   ]
  },
  {
   "cell_type": "code",
   "execution_count": 340,
   "metadata": {
    "collapsed": true
   },
   "outputs": [],
   "source": [
    "false_positive_rate, true_positive_rate, thresholds = roc_curve(y_test, lr.predict_proba(x_test)[:,1])\n",
    "roc_auc = auc(false_positive_rate, true_positive_rate)"
   ]
  },
  {
   "cell_type": "code",
   "execution_count": 341,
   "metadata": {
    "collapsed": false
   },
   "outputs": [
    {
     "data": {
      "image/png": "[encoded data removed]",
      "text/plain": [
       "<matplotlib.figure.Figure at 0x28b959950>"
      ]
     },
     "metadata": {},
     "output_type": "display_data"
    }
   ],
   "source": [
    "plt.title('Receiver Operating Characteristic')\n",
    "plt.plot(false_positive_rate, true_positive_rate,\n",
    "label='AUC = %0.2f'% roc_auc)\n",
    "plt.legend(loc='lower right')\n",
    "plt.plot([0,1],[0,1],'r--')\n",
    "plt.xlim([-0.1,1.2])\n",
    "plt.ylim([-0.1,1.2])\n",
    "plt.ylabel('True Positive Rate')\n",
    "plt.xlabel('False Positive Rate')\n",
    "plt.savefig(\"ROC.png\")"
   ]
  },
  {
   "cell_type": "markdown",
   "metadata": {},
   "source": [
    "#### Performs similar to when we do weighting. Let's try random forest"
   ]
  },
  {
   "cell_type": "markdown",
   "metadata": {},
   "source": [
    "### Gridsearch with random forest"
   ]
  },
  {
   "cell_type": "code",
   "execution_count": 32,
   "metadata": {
    "collapsed": false
   },
   "outputs": [
    {
     "name": "stdout",
     "output_type": "stream",
     "text": [
      "0.633799541329\n",
      "0.598705256344\n"
     ]
    }
   ],
   "source": [
    "RFC = RandomForestClassifier(n_jobs = -1)\n",
    "RFC.fit(usx_train, usy_train) \n",
    "print(accuracy_score(y_test, RFC.predict(x_test)))\n",
    "print(roc_auc_score(y_test, RFC.predict_proba(x_test)[:,1]))"
   ]
  },
  {
   "cell_type": "code",
   "execution_count": 37,
   "metadata": {
    "collapsed": true
   },
   "outputs": [],
   "source": [
    "RFC = RandomForestClassifier(n_jobs = -1)"
   ]
  },
  {
   "cell_type": "code",
   "execution_count": 40,
   "metadata": {
    "collapsed": false
   },
   "outputs": [],
   "source": [
    "from sklearn.grid_search import GridSearchCV\n",
    "from sklearn.cross_validation import StratifiedKFold\n",
    "import operator"
   ]
  },
  {
   "cell_type": "code",
   "execution_count": 44,
   "metadata": {
    "collapsed": false,
    "scrolled": true
   },
   "outputs": [
    {
     "name": "stdout",
     "output_type": "stream",
     "text": [
      "Fitting 3 folds for each of 90 candidates, totalling 270 fits\n",
      "[CV] max_features=1, n_estimators=20, max_depth=1 ....................\n",
      "[CV]  max_features=1, n_estimators=20, max_depth=1, score=0.547175 -   0.6s\n",
      "[CV] max_features=1, n_estimators=20, max_depth=1 ....................\n",
      "[CV]  max_features=1, n_estimators=20, max_depth=1, score=0.568101 -   0.4s\n",
      "[CV] max_features=1, n_estimators=20, max_depth=1 ....................\n",
      "[CV]  max_features=1, n_estimators=20, max_depth=1, score=0.538213 -   0.5s\n",
      "[CV] max_features=1, n_estimators=30, max_depth=1 ....................\n",
      "[CV]  max_features=1, n_estimators=30, max_depth=1, score=0.542225 -   0.5s\n",
      "[CV] max_features=1, n_estimators=30, max_depth=1 ....................\n",
      "[CV]  max_features=1, n_estimators=30, max_depth=1, score=0.566006 -   0.6s\n",
      "[CV] max_features=1, n_estimators=30, max_depth=1 ....................\n",
      "[CV]  max_features=1, n_estimators=30, max_depth=1, score=0.579742 -   0.5s\n",
      "[CV] max_features=1, n_estimators=50, max_depth=1 ....................\n",
      "[CV]  max_features=1, n_estimators=50, max_depth=1, score=0.549150 -   0.7s\n",
      "[CV] max_features=1, n_estimators=50, max_depth=1 ....................\n",
      "[CV]  max_features=1, n_estimators=50, max_depth=1, score=0.585381 -   0.8s\n",
      "[CV] max_features=1, n_estimators=50, max_depth=1 ....................\n",
      "[CV]  max_features=1, n_estimators=50, max_depth=1, score=0.557640 -   0.8s\n",
      "[CV] max_features=3, n_estimators=20, max_depth=1 ....................\n",
      "[CV]  max_features=3, n_estimators=20, max_depth=1, score=0.584363 -   0.5s\n",
      "[CV] max_features=3, n_estimators=20, max_depth=1 ....................\n",
      "[CV]  max_features=3, n_estimators=20, max_depth=1, score=0.557681 -   0.5s\n",
      "[CV] max_features=3, n_estimators=20, max_depth=1 ....................\n",
      "[CV]  max_features=3, n_estimators=20, max_depth=1, score=0.567359 -   0.4s\n",
      "[CV] max_features=3, n_estimators=30, max_depth=1 ....................\n",
      "[CV]  max_features=3, n_estimators=30, max_depth=1, score=0.574493 -   0.5s\n",
      "[CV] max_features=3, n_estimators=30, max_depth=1 ....................\n",
      "[CV]  max_features=3, n_estimators=30, max_depth=1, score=0.578154 -   0.5s\n",
      "[CV] max_features=3, n_estimators=30, max_depth=1 ....................\n",
      "[CV]  max_features=3, n_estimators=30, max_depth=1, score=0.572832 -   0.6s\n",
      "[CV] max_features=3, n_estimators=50, max_depth=1 ....................\n",
      "[CV]  max_features=3, n_estimators=50, max_depth=1, score=0.591124 -   0.8s\n",
      "[CV] max_features=3, n_estimators=50, max_depth=1 ....................\n",
      "[CV]  max_features=3, n_estimators=50, max_depth=1, score=0.589006 -   0.7s\n",
      "[CV] max_features=3, n_estimators=50, max_depth=1 ....................\n"
     ]
    },
    {
     "name": "stderr",
     "output_type": "stream",
     "text": [
      "[Parallel(n_jobs=1)]: Done  17 tasks       | elapsed:   10.0s\n"
     ]
    },
    {
     "name": "stdout",
     "output_type": "stream",
     "text": [
      "[CV]  max_features=3, n_estimators=50, max_depth=1, score=0.584543 -   0.7s\n",
      "[CV] max_features=10, n_estimators=20, max_depth=1 ...................\n",
      "[CV]  max_features=10, n_estimators=20, max_depth=1, score=0.585022 -   0.5s\n",
      "[CV] max_features=10, n_estimators=20, max_depth=1 ...................\n",
      "[CV]  max_features=10, n_estimators=20, max_depth=1, score=0.582730 -   0.5s\n",
      "[CV] max_features=10, n_estimators=20, max_depth=1 ...................\n",
      "[CV]  max_features=10, n_estimators=20, max_depth=1, score=0.571113 -   0.5s\n",
      "[CV] max_features=10, n_estimators=30, max_depth=1 ...................\n",
      "[CV]  max_features=10, n_estimators=30, max_depth=1, score=0.590923 -   0.5s\n",
      "[CV] max_features=10, n_estimators=30, max_depth=1 ...................\n",
      "[CV]  max_features=10, n_estimators=30, max_depth=1, score=0.586216 -   0.5s\n",
      "[CV] max_features=10, n_estimators=30, max_depth=1 ...................\n",
      "[CV]  max_features=10, n_estimators=30, max_depth=1, score=0.600537 -   0.6s\n",
      "[CV] max_features=10, n_estimators=50, max_depth=1 ...................\n",
      "[CV]  max_features=10, n_estimators=50, max_depth=1, score=0.597118 -   0.8s\n",
      "[CV] max_features=10, n_estimators=50, max_depth=1 ...................\n",
      "[CV]  max_features=10, n_estimators=50, max_depth=1, score=0.594685 -   0.8s\n",
      "[CV] max_features=10, n_estimators=50, max_depth=1 ...................\n",
      "[CV]  max_features=10, n_estimators=50, max_depth=1, score=0.598912 -   0.6s\n",
      "[CV] max_features=30, n_estimators=20, max_depth=1 ...................\n",
      "[CV]  max_features=30, n_estimators=20, max_depth=1, score=0.588641 -   0.6s\n",
      "[CV] max_features=30, n_estimators=20, max_depth=1 ...................\n",
      "[CV]  max_features=30, n_estimators=20, max_depth=1, score=0.590014 -   0.6s\n",
      "[CV] max_features=30, n_estimators=20, max_depth=1 ...................\n",
      "[CV]  max_features=30, n_estimators=20, max_depth=1, score=0.581090 -   0.6s\n",
      "[CV] max_features=30, n_estimators=30, max_depth=1 ...................\n",
      "[CV]  max_features=30, n_estimators=30, max_depth=1, score=0.584124 -   0.9s\n",
      "[CV] max_features=30, n_estimators=30, max_depth=1 ...................\n",
      "[CV]  max_features=30, n_estimators=30, max_depth=1, score=0.594691 -   0.7s\n",
      "[CV] max_features=30, n_estimators=30, max_depth=1 ...................\n",
      "[CV]  max_features=30, n_estimators=30, max_depth=1, score=0.582977 -   1.0s\n",
      "[CV] max_features=30, n_estimators=50, max_depth=1 ...................\n",
      "[CV]  max_features=30, n_estimators=50, max_depth=1, score=0.589528 -   1.0s\n",
      "[CV] max_features=30, n_estimators=50, max_depth=1 ...................\n",
      "[CV]  max_features=30, n_estimators=50, max_depth=1, score=0.589184 -   1.3s\n",
      "[CV] max_features=30, n_estimators=50, max_depth=1 ...................\n",
      "[CV]  max_features=30, n_estimators=50, max_depth=1, score=0.592087 -   1.4s\n",
      "[CV] max_features=sqrt, n_estimators=20, max_depth=1 .................\n",
      "[CV]  max_features=sqrt, n_estimators=20, max_depth=1, score=0.580701 -   0.5s\n",
      "[CV] max_features=sqrt, n_estimators=20, max_depth=1 .................\n",
      "[CV]  max_features=sqrt, n_estimators=20, max_depth=1, score=0.578920 -   0.5s\n",
      "[CV] max_features=sqrt, n_estimators=20, max_depth=1 .................\n",
      "[CV]  max_features=sqrt, n_estimators=20, max_depth=1, score=0.583483 -   0.5s\n",
      "[CV] max_features=sqrt, n_estimators=30, max_depth=1 .................\n",
      "[CV]  max_features=sqrt, n_estimators=30, max_depth=1, score=0.593779 -   0.6s\n",
      "[CV] max_features=sqrt, n_estimators=30, max_depth=1 .................\n",
      "[CV]  max_features=sqrt, n_estimators=30, max_depth=1, score=0.586399 -   0.9s\n",
      "[CV] max_features=sqrt, n_estimators=30, max_depth=1 .................\n",
      "[CV]  max_features=sqrt, n_estimators=30, max_depth=1, score=0.595623 -   0.7s\n",
      "[CV] max_features=sqrt, n_estimators=50, max_depth=1 .................\n",
      "[CV]  max_features=sqrt, n_estimators=50, max_depth=1, score=0.596593 -   0.8s\n",
      "[CV] max_features=sqrt, n_estimators=50, max_depth=1 .................\n",
      "[CV]  max_features=sqrt, n_estimators=50, max_depth=1, score=0.598082 -   0.7s\n",
      "[CV] max_features=sqrt, n_estimators=50, max_depth=1 .................\n",
      "[CV]  max_features=sqrt, n_estimators=50, max_depth=1, score=0.596684 -   0.9s\n",
      "[CV] max_features=1, n_estimators=20, max_depth=5 ....................\n",
      "[CV]  max_features=1, n_estimators=20, max_depth=5, score=0.594739 -   0.5s\n",
      "[CV] max_features=1, n_estimators=20, max_depth=5 ....................\n",
      "[CV]  max_features=1, n_estimators=20, max_depth=5, score=0.587362 -   0.6s\n",
      "[CV] max_features=1, n_estimators=20, max_depth=5 ....................\n",
      "[CV]  max_features=1, n_estimators=20, max_depth=5, score=0.577101 -   0.5s\n",
      "[CV] max_features=1, n_estimators=30, max_depth=5 ....................\n",
      "[CV]  max_features=1, n_estimators=30, max_depth=5, score=0.591594 -   0.6s\n",
      "[CV] max_features=1, n_estimators=30, max_depth=5 ....................\n",
      "[CV]  max_features=1, n_estimators=30, max_depth=5, score=0.586077 -   0.5s\n",
      "[CV] max_features=1, n_estimators=30, max_depth=5 ....................\n",
      "[CV]  max_features=1, n_estimators=30, max_depth=5, score=0.606139 -   0.6s\n",
      "[CV] max_features=1, n_estimators=50, max_depth=5 ....................\n",
      "[CV]  max_features=1, n_estimators=50, max_depth=5, score=0.608146 -   1.1s\n",
      "[CV] max_features=1, n_estimators=50, max_depth=5 ....................\n",
      "[CV]  max_features=1, n_estimators=50, max_depth=5, score=0.588545 -   0.8s\n",
      "[CV] max_features=1, n_estimators=50, max_depth=5 ....................\n",
      "[CV]  max_features=1, n_estimators=50, max_depth=5, score=0.592245 -   0.7s\n",
      "[CV] max_features=3, n_estimators=20, max_depth=5 ....................\n",
      "[CV]  max_features=3, n_estimators=20, max_depth=5, score=0.608044 -   0.5s\n",
      "[CV] max_features=3, n_estimators=20, max_depth=5 ....................\n",
      "[CV]  max_features=3, n_estimators=20, max_depth=5, score=0.594914 -   0.6s\n",
      "[CV] max_features=3, n_estimators=20, max_depth=5 ....................\n",
      "[CV]  max_features=3, n_estimators=20, max_depth=5, score=0.604402 -   0.6s\n",
      "[CV] max_features=3, n_estimators=30, max_depth=5 ....................\n",
      "[CV]  max_features=3, n_estimators=30, max_depth=5, score=0.614389 -   0.7s\n",
      "[CV] max_features=3, n_estimators=30, max_depth=5 ....................\n",
      "[CV]  max_features=3, n_estimators=30, max_depth=5, score=0.608404 -   0.6s\n",
      "[CV] max_features=3, n_estimators=30, max_depth=5 ....................\n",
      "[CV]  max_features=3, n_estimators=30, max_depth=5, score=0.608316 -   0.6s\n",
      "[CV] max_features=3, n_estimators=50, max_depth=5 ....................\n",
      "[CV]  max_features=3, n_estimators=50, max_depth=5, score=0.615490 -   0.9s\n",
      "[CV] max_features=3, n_estimators=50, max_depth=5 ....................\n",
      "[CV]  max_features=3, n_estimators=50, max_depth=5, score=0.607045 -   0.9s\n",
      "[CV] max_features=3, n_estimators=50, max_depth=5 ....................\n",
      "[CV]  max_features=3, n_estimators=50, max_depth=5, score=0.612473 -   0.9s\n",
      "[CV] max_features=10, n_estimators=20, max_depth=5 ...................\n",
      "[CV]  max_features=10, n_estimators=20, max_depth=5, score=0.609398 -   0.9s\n",
      "[CV] max_features=10, n_estimators=20, max_depth=5 ...................\n",
      "[CV]  max_features=10, n_estimators=20, max_depth=5, score=0.608867 -   0.9s\n",
      "[CV] max_features=10, n_estimators=20, max_depth=5 ...................\n",
      "[CV]  max_features=10, n_estimators=20, max_depth=5, score=0.609157 -   0.7s\n",
      "[CV] max_features=10, n_estimators=30, max_depth=5 ...................\n",
      "[CV]  max_features=10, n_estimators=30, max_depth=5, score=0.609669 -   0.9s\n",
      "[CV] max_features=10, n_estimators=30, max_depth=5 ...................\n",
      "[CV]  max_features=10, n_estimators=30, max_depth=5, score=0.613413 -   1.0s\n",
      "[CV] max_features=10, n_estimators=30, max_depth=5 ...................\n",
      "[CV]  max_features=10, n_estimators=30, max_depth=5, score=0.611485 -   0.9s\n",
      "[CV] max_features=10, n_estimators=50, max_depth=5 ...................\n",
      "[CV]  max_features=10, n_estimators=50, max_depth=5, score=0.608630 -   1.6s\n",
      "[CV] max_features=10, n_estimators=50, max_depth=5 ...................\n",
      "[CV]  max_features=10, n_estimators=50, max_depth=5, score=0.612125 -   1.4s\n",
      "[CV] max_features=10, n_estimators=50, max_depth=5 ...................\n"
     ]
    },
    {
     "name": "stderr",
     "output_type": "stream",
     "text": [
      "[Parallel(n_jobs=1)]: Done  71 tasks       | elapsed:   51.3s\n"
     ]
    },
    {
     "name": "stdout",
     "output_type": "stream",
     "text": [
      "[CV]  max_features=10, n_estimators=50, max_depth=5, score=0.610716 -   1.5s\n",
      "[CV] max_features=30, n_estimators=20, max_depth=5 ...................\n",
      "[CV]  max_features=30, n_estimators=20, max_depth=5, score=0.610856 -   1.4s\n",
      "[CV] max_features=30, n_estimators=20, max_depth=5 ...................\n",
      "[CV]  max_features=30, n_estimators=20, max_depth=5, score=0.610342 -   1.3s\n",
      "[CV] max_features=30, n_estimators=20, max_depth=5 ...................\n",
      "[CV]  max_features=30, n_estimators=20, max_depth=5, score=0.607010 -   1.4s\n",
      "[CV] max_features=30, n_estimators=30, max_depth=5 ...................\n",
      "[CV]  max_features=30, n_estimators=30, max_depth=5, score=0.607252 -   2.1s\n",
      "[CV] max_features=30, n_estimators=30, max_depth=5 ...................\n",
      "[CV]  max_features=30, n_estimators=30, max_depth=5, score=0.606154 -   2.0s\n",
      "[CV] max_features=30, n_estimators=30, max_depth=5 ...................\n",
      "[CV]  max_features=30, n_estimators=30, max_depth=5, score=0.607676 -   2.2s\n",
      "[CV] max_features=30, n_estimators=50, max_depth=5 ...................\n",
      "[CV]  max_features=30, n_estimators=50, max_depth=5, score=0.605267 -   3.2s\n",
      "[CV] max_features=30, n_estimators=50, max_depth=5 ...................\n",
      "[CV]  max_features=30, n_estimators=50, max_depth=5, score=0.611079 -   3.5s\n",
      "[CV] max_features=30, n_estimators=50, max_depth=5 ...................\n",
      "[CV]  max_features=30, n_estimators=50, max_depth=5, score=0.609966 -   3.3s\n",
      "[CV] max_features=sqrt, n_estimators=20, max_depth=5 .................\n",
      "[CV]  max_features=sqrt, n_estimators=20, max_depth=5, score=0.609199 -   0.9s\n",
      "[CV] max_features=sqrt, n_estimators=20, max_depth=5 .................\n",
      "[CV]  max_features=sqrt, n_estimators=20, max_depth=5, score=0.603501 -   1.4s\n",
      "[CV] max_features=sqrt, n_estimators=20, max_depth=5 .................\n",
      "[CV]  max_features=sqrt, n_estimators=20, max_depth=5, score=0.606451 -   0.8s\n",
      "[CV] max_features=sqrt, n_estimators=30, max_depth=5 .................\n",
      "[CV]  max_features=sqrt, n_estimators=30, max_depth=5, score=0.608045 -   1.1s\n",
      "[CV] max_features=sqrt, n_estimators=30, max_depth=5 .................\n",
      "[CV]  max_features=sqrt, n_estimators=30, max_depth=5, score=0.604112 -   1.2s\n",
      "[CV] max_features=sqrt, n_estimators=30, max_depth=5 .................\n",
      "[CV]  max_features=sqrt, n_estimators=30, max_depth=5, score=0.606172 -   1.2s\n",
      "[CV] max_features=sqrt, n_estimators=50, max_depth=5 .................\n",
      "[CV]  max_features=sqrt, n_estimators=50, max_depth=5, score=0.612781 -   1.5s\n",
      "[CV] max_features=sqrt, n_estimators=50, max_depth=5 .................\n",
      "[CV]  max_features=sqrt, n_estimators=50, max_depth=5, score=0.611269 -   1.5s\n",
      "[CV] max_features=sqrt, n_estimators=50, max_depth=5 .................\n",
      "[CV]  max_features=sqrt, n_estimators=50, max_depth=5, score=0.611318 -   1.7s\n",
      "[CV] max_features=1, n_estimators=20, max_depth=10 ...................\n",
      "[CV]  max_features=1, n_estimators=20, max_depth=10, score=0.591917 -   0.5s\n",
      "[CV] max_features=1, n_estimators=20, max_depth=10 ...................\n",
      "[CV]  max_features=1, n_estimators=20, max_depth=10, score=0.596733 -   0.6s\n",
      "[CV] max_features=1, n_estimators=20, max_depth=10 ...................\n",
      "[CV]  max_features=1, n_estimators=20, max_depth=10, score=0.587372 -   0.6s\n",
      "[CV] max_features=1, n_estimators=30, max_depth=10 ...................\n",
      "[CV]  max_features=1, n_estimators=30, max_depth=10, score=0.596660 -   0.6s\n",
      "[CV] max_features=1, n_estimators=30, max_depth=10 ...................\n",
      "[CV]  max_features=1, n_estimators=30, max_depth=10, score=0.598173 -   0.6s\n",
      "[CV] max_features=1, n_estimators=30, max_depth=10 ...................\n",
      "[CV]  max_features=1, n_estimators=30, max_depth=10, score=0.604968 -   0.7s\n",
      "[CV] max_features=1, n_estimators=50, max_depth=10 ...................\n",
      "[CV]  max_features=1, n_estimators=50, max_depth=10, score=0.619010 -   1.0s\n",
      "[CV] max_features=1, n_estimators=50, max_depth=10 ...................\n",
      "[CV]  max_features=1, n_estimators=50, max_depth=10, score=0.614328 -   0.7s\n",
      "[CV] max_features=1, n_estimators=50, max_depth=10 ...................\n",
      "[CV]  max_features=1, n_estimators=50, max_depth=10, score=0.612735 -   0.7s\n",
      "[CV] max_features=3, n_estimators=20, max_depth=10 ...................\n",
      "[CV]  max_features=3, n_estimators=20, max_depth=10, score=0.610642 -   0.7s\n",
      "[CV] max_features=3, n_estimators=20, max_depth=10 ...................\n",
      "[CV]  max_features=3, n_estimators=20, max_depth=10, score=0.614327 -   0.8s\n",
      "[CV] max_features=3, n_estimators=20, max_depth=10 ...................\n",
      "[CV]  max_features=3, n_estimators=20, max_depth=10, score=0.615162 -   0.6s\n",
      "[CV] max_features=3, n_estimators=30, max_depth=10 ...................\n",
      "[CV]  max_features=3, n_estimators=30, max_depth=10, score=0.615857 -   0.8s\n",
      "[CV] max_features=3, n_estimators=30, max_depth=10 ...................\n",
      "[CV]  max_features=3, n_estimators=30, max_depth=10, score=0.624416 -   0.9s\n",
      "[CV] max_features=3, n_estimators=30, max_depth=10 ...................\n",
      "[CV]  max_features=3, n_estimators=30, max_depth=10, score=0.615801 -   0.8s\n",
      "[CV] max_features=3, n_estimators=50, max_depth=10 ...................\n",
      "[CV]  max_features=3, n_estimators=50, max_depth=10, score=0.620710 -   1.2s\n",
      "[CV] max_features=3, n_estimators=50, max_depth=10 ...................\n",
      "[CV]  max_features=3, n_estimators=50, max_depth=10, score=0.625536 -   1.1s\n",
      "[CV] max_features=3, n_estimators=50, max_depth=10 ...................\n",
      "[CV]  max_features=3, n_estimators=50, max_depth=10, score=0.629954 -   1.1s\n",
      "[CV] max_features=10, n_estimators=20, max_depth=10 ..................\n",
      "[CV]  max_features=10, n_estimators=20, max_depth=10, score=0.619595 -   0.9s\n",
      "[CV] max_features=10, n_estimators=20, max_depth=10 ..................\n",
      "[CV]  max_features=10, n_estimators=20, max_depth=10, score=0.619697 -   1.1s\n",
      "[CV] max_features=10, n_estimators=20, max_depth=10 ..................\n",
      "[CV]  max_features=10, n_estimators=20, max_depth=10, score=0.621038 -   1.1s\n",
      "[CV] max_features=10, n_estimators=30, max_depth=10 ..................\n",
      "[CV]  max_features=10, n_estimators=30, max_depth=10, score=0.624883 -   1.3s\n",
      "[CV] max_features=10, n_estimators=30, max_depth=10 ..................\n",
      "[CV]  max_features=10, n_estimators=30, max_depth=10, score=0.624490 -   1.9s\n",
      "[CV] max_features=10, n_estimators=30, max_depth=10 ..................\n",
      "[CV]  max_features=10, n_estimators=30, max_depth=10, score=0.619269 -   1.9s\n",
      "[CV] max_features=10, n_estimators=50, max_depth=10 ..................\n",
      "[CV]  max_features=10, n_estimators=50, max_depth=10, score=0.623221 -   2.5s\n",
      "[CV] max_features=10, n_estimators=50, max_depth=10 ..................\n",
      "[CV]  max_features=10, n_estimators=50, max_depth=10, score=0.625862 -   2.4s\n",
      "[CV] max_features=10, n_estimators=50, max_depth=10 ..................\n",
      "[CV]  max_features=10, n_estimators=50, max_depth=10, score=0.624531 -   2.1s\n",
      "[CV] max_features=30, n_estimators=20, max_depth=10 ..................\n",
      "[CV]  max_features=30, n_estimators=20, max_depth=10, score=0.618672 -   2.2s\n",
      "[CV] max_features=30, n_estimators=20, max_depth=10 ..................\n",
      "[CV]  max_features=30, n_estimators=20, max_depth=10, score=0.623662 -   2.2s\n",
      "[CV] max_features=30, n_estimators=20, max_depth=10 ..................\n",
      "[CV]  max_features=30, n_estimators=20, max_depth=10, score=0.624807 -   2.2s\n",
      "[CV] max_features=30, n_estimators=30, max_depth=10 ..................\n",
      "[CV]  max_features=30, n_estimators=30, max_depth=10, score=0.619688 -   2.9s\n",
      "[CV] max_features=30, n_estimators=30, max_depth=10 ..................\n",
      "[CV]  max_features=30, n_estimators=30, max_depth=10, score=0.624649 -   3.0s\n",
      "[CV] max_features=30, n_estimators=30, max_depth=10 ..................\n",
      "[CV]  max_features=30, n_estimators=30, max_depth=10, score=0.624745 -   3.1s\n",
      "[CV] max_features=30, n_estimators=50, max_depth=10 ..................\n",
      "[CV]  max_features=30, n_estimators=50, max_depth=10, score=0.623706 -   5.1s\n",
      "[CV] max_features=30, n_estimators=50, max_depth=10 ..................\n",
      "[CV]  max_features=30, n_estimators=50, max_depth=10, score=0.624804 -   4.8s\n",
      "[CV] max_features=30, n_estimators=50, max_depth=10 ..................\n",
      "[CV]  max_features=30, n_estimators=50, max_depth=10, score=0.627249 -   5.7s\n",
      "[CV] max_features=sqrt, n_estimators=20, max_depth=10 ................\n",
      "[CV]  max_features=sqrt, n_estimators=20, max_depth=10, score=0.622327 -   1.6s\n",
      "[CV] max_features=sqrt, n_estimators=20, max_depth=10 ................\n",
      "[CV]  max_features=sqrt, n_estimators=20, max_depth=10, score=0.625486 -   1.4s\n",
      "[CV] max_features=sqrt, n_estimators=20, max_depth=10 ................\n",
      "[CV]  max_features=sqrt, n_estimators=20, max_depth=10, score=0.623836 -   1.4s\n",
      "[CV] max_features=sqrt, n_estimators=30, max_depth=10 ................\n",
      "[CV]  max_features=sqrt, n_estimators=30, max_depth=10, score=0.626871 -   1.8s\n",
      "[CV] max_features=sqrt, n_estimators=30, max_depth=10 ................\n",
      "[CV]  max_features=sqrt, n_estimators=30, max_depth=10, score=0.624555 -   2.2s\n",
      "[CV] max_features=sqrt, n_estimators=30, max_depth=10 ................\n",
      "[CV]  max_features=sqrt, n_estimators=30, max_depth=10, score=0.625437 -   2.2s\n",
      "[CV] max_features=sqrt, n_estimators=50, max_depth=10 ................\n",
      "[CV]  max_features=sqrt, n_estimators=50, max_depth=10, score=0.625672 -   3.2s\n",
      "[CV] max_features=sqrt, n_estimators=50, max_depth=10 ................\n",
      "[CV]  max_features=sqrt, n_estimators=50, max_depth=10, score=0.628587 -   3.2s\n",
      "[CV] max_features=sqrt, n_estimators=50, max_depth=10 ................\n",
      "[CV]  max_features=sqrt, n_estimators=50, max_depth=10, score=0.625453 -   3.5s\n",
      "[CV] max_features=1, n_estimators=20, max_depth=20 ...................\n",
      "[CV]  max_features=1, n_estimators=20, max_depth=20, score=0.606281 -   0.7s\n",
      "[CV] max_features=1, n_estimators=20, max_depth=20 ...................\n",
      "[CV]  max_features=1, n_estimators=20, max_depth=20, score=0.602627 -   0.8s\n",
      "[CV] max_features=1, n_estimators=20, max_depth=20 ...................\n",
      "[CV]  max_features=1, n_estimators=20, max_depth=20, score=0.606354 -   0.7s\n",
      "[CV] max_features=1, n_estimators=30, max_depth=20 ...................\n",
      "[CV]  max_features=1, n_estimators=30, max_depth=20, score=0.615007 -   1.1s\n",
      "[CV] max_features=1, n_estimators=30, max_depth=20 ...................\n",
      "[CV]  max_features=1, n_estimators=30, max_depth=20, score=0.617214 -   1.1s\n",
      "[CV] max_features=1, n_estimators=30, max_depth=20 ...................\n",
      "[CV]  max_features=1, n_estimators=30, max_depth=20, score=0.613650 -   1.1s\n",
      "[CV] max_features=1, n_estimators=50, max_depth=20 ...................\n",
      "[CV]  max_features=1, n_estimators=50, max_depth=20, score=0.620803 -   1.6s\n",
      "[CV] max_features=1, n_estimators=50, max_depth=20 ...................\n",
      "[CV]  max_features=1, n_estimators=50, max_depth=20, score=0.625273 -   1.6s\n",
      "[CV] max_features=1, n_estimators=50, max_depth=20 ...................\n",
      "[CV]  max_features=1, n_estimators=50, max_depth=20, score=0.624415 -   2.6s\n",
      "[CV] max_features=3, n_estimators=20, max_depth=20 ...................\n",
      "[CV]  max_features=3, n_estimators=20, max_depth=20, score=0.617381 -   1.2s\n",
      "[CV] max_features=3, n_estimators=20, max_depth=20 ...................\n",
      "[CV]  max_features=3, n_estimators=20, max_depth=20, score=0.616073 -   1.0s\n",
      "[CV] max_features=3, n_estimators=20, max_depth=20 ...................\n",
      "[CV]  max_features=3, n_estimators=20, max_depth=20, score=0.621793 -   1.0s\n",
      "[CV] max_features=3, n_estimators=30, max_depth=20 ...................\n",
      "[CV]  max_features=3, n_estimators=30, max_depth=20, score=0.626199 -   1.4s\n",
      "[CV] max_features=3, n_estimators=30, max_depth=20 ...................\n",
      "[CV]  max_features=3, n_estimators=30, max_depth=20, score=0.624590 -   1.3s\n",
      "[CV] max_features=3, n_estimators=30, max_depth=20 ...................\n",
      "[CV]  max_features=3, n_estimators=30, max_depth=20, score=0.625628 -   1.3s\n",
      "[CV] max_features=3, n_estimators=50, max_depth=20 ...................\n",
      "[CV]  max_features=3, n_estimators=50, max_depth=20, score=0.634868 -   1.7s\n",
      "[CV] max_features=3, n_estimators=50, max_depth=20 ...................\n",
      "[CV]  max_features=3, n_estimators=50, max_depth=20, score=0.637884 -   1.8s\n",
      "[CV] max_features=3, n_estimators=50, max_depth=20 ...................\n",
      "[CV]  max_features=3, n_estimators=50, max_depth=20, score=0.637444 -   2.0s\n",
      "[CV] max_features=10, n_estimators=20, max_depth=20 ..................\n",
      "[CV]  max_features=10, n_estimators=20, max_depth=20, score=0.629693 -   1.7s\n",
      "[CV] max_features=10, n_estimators=20, max_depth=20 ..................\n",
      "[CV]  max_features=10, n_estimators=20, max_depth=20, score=0.634364 -   1.5s\n",
      "[CV] max_features=10, n_estimators=20, max_depth=20 ..................\n",
      "[CV]  max_features=10, n_estimators=20, max_depth=20, score=0.630764 -   1.7s\n",
      "[CV] max_features=10, n_estimators=30, max_depth=20 ..................\n",
      "[CV]  max_features=10, n_estimators=30, max_depth=20, score=0.633295 -   2.2s\n",
      "[CV] max_features=10, n_estimators=30, max_depth=20 ..................\n",
      "[CV]  max_features=10, n_estimators=30, max_depth=20, score=0.634616 -   2.3s\n",
      "[CV] max_features=10, n_estimators=30, max_depth=20 ..................\n",
      "[CV]  max_features=10, n_estimators=30, max_depth=20, score=0.638015 -   2.2s\n",
      "[CV] max_features=10, n_estimators=50, max_depth=20 ..................\n",
      "[CV]  max_features=10, n_estimators=50, max_depth=20, score=0.640712 -   3.2s\n",
      "[CV] max_features=10, n_estimators=50, max_depth=20 ..................\n",
      "[CV]  max_features=10, n_estimators=50, max_depth=20, score=0.646394 -   4.3s\n",
      "[CV] max_features=10, n_estimators=50, max_depth=20 ..................\n"
     ]
    },
    {
     "name": "stderr",
     "output_type": "stream",
     "text": [
      "[Parallel(n_jobs=1)]: Done 161 tasks       | elapsed:  3.5min\n"
     ]
    },
    {
     "name": "stdout",
     "output_type": "stream",
     "text": [
      "[CV]  max_features=10, n_estimators=50, max_depth=20, score=0.641403 -   3.8s\n",
      "[CV] max_features=30, n_estimators=20, max_depth=20 ..................\n",
      "[CV]  max_features=30, n_estimators=20, max_depth=20, score=0.626054 -   3.3s\n",
      "[CV] max_features=30, n_estimators=20, max_depth=20 ..................\n",
      "[CV]  max_features=30, n_estimators=20, max_depth=20, score=0.634987 -   3.0s\n",
      "[CV] max_features=30, n_estimators=20, max_depth=20 ..................\n",
      "[CV]  max_features=30, n_estimators=20, max_depth=20, score=0.633235 -   3.8s\n",
      "[CV] max_features=30, n_estimators=30, max_depth=20 ..................\n",
      "[CV]  max_features=30, n_estimators=30, max_depth=20, score=0.630055 -   4.8s\n",
      "[CV] max_features=30, n_estimators=30, max_depth=20 ..................\n",
      "[CV]  max_features=30, n_estimators=30, max_depth=20, score=0.639812 -   4.6s\n",
      "[CV] max_features=30, n_estimators=30, max_depth=20 ..................\n",
      "[CV]  max_features=30, n_estimators=30, max_depth=20, score=0.636074 -   4.4s\n",
      "[CV] max_features=30, n_estimators=50, max_depth=20 ..................\n",
      "[CV]  max_features=30, n_estimators=50, max_depth=20, score=0.637106 -   8.2s\n",
      "[CV] max_features=30, n_estimators=50, max_depth=20 ..................\n",
      "[CV]  max_features=30, n_estimators=50, max_depth=20, score=0.642246 -   7.1s\n",
      "[CV] max_features=30, n_estimators=50, max_depth=20 ..................\n",
      "[CV]  max_features=30, n_estimators=50, max_depth=20, score=0.639580 -   8.0s\n",
      "[CV] max_features=sqrt, n_estimators=20, max_depth=20 ................\n",
      "[CV]  max_features=sqrt, n_estimators=20, max_depth=20, score=0.627879 -   1.7s\n",
      "[CV] max_features=sqrt, n_estimators=20, max_depth=20 ................\n",
      "[CV]  max_features=sqrt, n_estimators=20, max_depth=20, score=0.631549 -   1.8s\n",
      "[CV] max_features=sqrt, n_estimators=20, max_depth=20 ................\n",
      "[CV]  max_features=sqrt, n_estimators=20, max_depth=20, score=0.631220 -   1.9s\n",
      "[CV] max_features=sqrt, n_estimators=30, max_depth=20 ................\n",
      "[CV]  max_features=sqrt, n_estimators=30, max_depth=20, score=0.636967 -   2.3s\n",
      "[CV] max_features=sqrt, n_estimators=30, max_depth=20 ................\n",
      "[CV]  max_features=sqrt, n_estimators=30, max_depth=20, score=0.640362 -   2.3s\n",
      "[CV] max_features=sqrt, n_estimators=30, max_depth=20 ................\n",
      "[CV]  max_features=sqrt, n_estimators=30, max_depth=20, score=0.633790 -   2.8s\n",
      "[CV] max_features=sqrt, n_estimators=50, max_depth=20 ................\n",
      "[CV]  max_features=sqrt, n_estimators=50, max_depth=20, score=0.641502 -   3.7s\n",
      "[CV] max_features=sqrt, n_estimators=50, max_depth=20 ................\n",
      "[CV]  max_features=sqrt, n_estimators=50, max_depth=20, score=0.645247 -   3.9s\n",
      "[CV] max_features=sqrt, n_estimators=50, max_depth=20 ................\n",
      "[CV]  max_features=sqrt, n_estimators=50, max_depth=20, score=0.647180 -   4.3s\n",
      "[CV] max_features=1, n_estimators=20, max_depth=40 ...................\n",
      "[CV]  max_features=1, n_estimators=20, max_depth=40, score=0.600649 -   1.0s\n",
      "[CV] max_features=1, n_estimators=20, max_depth=40 ...................\n",
      "[CV]  max_features=1, n_estimators=20, max_depth=40, score=0.606392 -   1.1s\n",
      "[CV] max_features=1, n_estimators=20, max_depth=40 ...................\n",
      "[CV]  max_features=1, n_estimators=20, max_depth=40, score=0.607312 -   1.0s\n",
      "[CV] max_features=1, n_estimators=30, max_depth=40 ...................\n",
      "[CV]  max_features=1, n_estimators=30, max_depth=40, score=0.616704 -   1.6s\n",
      "[CV] max_features=1, n_estimators=30, max_depth=40 ...................\n",
      "[CV]  max_features=1, n_estimators=30, max_depth=40, score=0.612453 -   1.4s\n",
      "[CV] max_features=1, n_estimators=30, max_depth=40 ...................\n",
      "[CV]  max_features=1, n_estimators=30, max_depth=40, score=0.613813 -   1.5s\n",
      "[CV] max_features=1, n_estimators=50, max_depth=40 ...................\n",
      "[CV]  max_features=1, n_estimators=50, max_depth=40, score=0.627876 -   2.4s\n",
      "[CV] max_features=1, n_estimators=50, max_depth=40 ...................\n",
      "[CV]  max_features=1, n_estimators=50, max_depth=40, score=0.625145 -   2.0s\n",
      "[CV] max_features=1, n_estimators=50, max_depth=40 ...................\n",
      "[CV]  max_features=1, n_estimators=50, max_depth=40, score=0.625117 -   2.0s\n",
      "[CV] max_features=3, n_estimators=20, max_depth=40 ...................\n",
      "[CV]  max_features=3, n_estimators=20, max_depth=40, score=0.618940 -   1.1s\n",
      "[CV] max_features=3, n_estimators=20, max_depth=40 ...................\n",
      "[CV]  max_features=3, n_estimators=20, max_depth=40, score=0.619188 -   1.3s\n",
      "[CV] max_features=3, n_estimators=20, max_depth=40 ...................\n",
      "[CV]  max_features=3, n_estimators=20, max_depth=40, score=0.614513 -   1.2s\n",
      "[CV] max_features=3, n_estimators=30, max_depth=40 ...................\n",
      "[CV]  max_features=3, n_estimators=30, max_depth=40, score=0.625334 -   1.6s\n",
      "[CV] max_features=3, n_estimators=30, max_depth=40 ...................\n",
      "[CV]  max_features=3, n_estimators=30, max_depth=40, score=0.625702 -   1.7s\n",
      "[CV] max_features=3, n_estimators=30, max_depth=40 ...................\n",
      "[CV]  max_features=3, n_estimators=30, max_depth=40, score=0.623815 -   1.9s\n",
      "[CV] max_features=3, n_estimators=50, max_depth=40 ...................\n",
      "[CV]  max_features=3, n_estimators=50, max_depth=40, score=0.631782 -   2.6s\n",
      "[CV] max_features=3, n_estimators=50, max_depth=40 ...................\n",
      "[CV]  max_features=3, n_estimators=50, max_depth=40, score=0.637533 -   2.9s\n",
      "[CV] max_features=3, n_estimators=50, max_depth=40 ...................\n",
      "[CV]  max_features=3, n_estimators=50, max_depth=40, score=0.630363 -   2.5s\n",
      "[CV] max_features=10, n_estimators=20, max_depth=40 ..................\n",
      "[CV]  max_features=10, n_estimators=20, max_depth=40, score=0.631161 -   1.8s\n",
      "[CV] max_features=10, n_estimators=20, max_depth=40 ..................\n",
      "[CV]  max_features=10, n_estimators=20, max_depth=40, score=0.626958 -   2.2s\n",
      "[CV] max_features=10, n_estimators=20, max_depth=40 ..................\n",
      "[CV]  max_features=10, n_estimators=20, max_depth=40, score=0.624559 -   2.3s\n",
      "[CV] max_features=10, n_estimators=30, max_depth=40 ..................\n",
      "[CV]  max_features=10, n_estimators=30, max_depth=40, score=0.630249 -   2.9s\n",
      "[CV] max_features=10, n_estimators=30, max_depth=40 ..................\n",
      "[CV]  max_features=10, n_estimators=30, max_depth=40, score=0.634276 -   3.0s\n",
      "[CV] max_features=10, n_estimators=30, max_depth=40 ..................\n",
      "[CV]  max_features=10, n_estimators=30, max_depth=40, score=0.634476 -   3.0s\n",
      "[CV] max_features=10, n_estimators=50, max_depth=40 ..................\n",
      "[CV]  max_features=10, n_estimators=50, max_depth=40, score=0.640202 -   4.1s\n",
      "[CV] max_features=10, n_estimators=50, max_depth=40 ..................\n",
      "[CV]  max_features=10, n_estimators=50, max_depth=40, score=0.643820 -   5.0s\n",
      "[CV] max_features=10, n_estimators=50, max_depth=40 ..................\n",
      "[CV]  max_features=10, n_estimators=50, max_depth=40, score=0.641349 -   4.7s\n",
      "[CV] max_features=30, n_estimators=20, max_depth=40 ..................\n",
      "[CV]  max_features=30, n_estimators=20, max_depth=40, score=0.627417 -   3.6s\n",
      "[CV] max_features=30, n_estimators=20, max_depth=40 ..................\n",
      "[CV]  max_features=30, n_estimators=20, max_depth=40, score=0.627162 -   3.8s\n",
      "[CV] max_features=30, n_estimators=20, max_depth=40 ..................\n",
      "[CV]  max_features=30, n_estimators=20, max_depth=40, score=0.628791 -   3.8s\n",
      "[CV] max_features=30, n_estimators=30, max_depth=40 ..................\n",
      "[CV]  max_features=30, n_estimators=30, max_depth=40, score=0.629473 -   5.3s\n",
      "[CV] max_features=30, n_estimators=30, max_depth=40 ..................\n",
      "[CV]  max_features=30, n_estimators=30, max_depth=40, score=0.633199 -   5.4s\n",
      "[CV] max_features=30, n_estimators=30, max_depth=40 ..................\n",
      "[CV]  max_features=30, n_estimators=30, max_depth=40, score=0.637133 -   5.5s\n",
      "[CV] max_features=30, n_estimators=50, max_depth=40 ..................\n",
      "[CV]  max_features=30, n_estimators=50, max_depth=40, score=0.635383 -   8.8s\n",
      "[CV] max_features=30, n_estimators=50, max_depth=40 ..................\n",
      "[CV]  max_features=30, n_estimators=50, max_depth=40, score=0.644322 -   8.8s\n",
      "[CV] max_features=30, n_estimators=50, max_depth=40 ..................\n",
      "[CV]  max_features=30, n_estimators=50, max_depth=40, score=0.639832 -  10.6s\n",
      "[CV] max_features=sqrt, n_estimators=20, max_depth=40 ................\n",
      "[CV]  max_features=sqrt, n_estimators=20, max_depth=40, score=0.626625 -   2.2s\n",
      "[CV] max_features=sqrt, n_estimators=20, max_depth=40 ................\n",
      "[CV]  max_features=sqrt, n_estimators=20, max_depth=40, score=0.631467 -   2.2s\n",
      "[CV] max_features=sqrt, n_estimators=20, max_depth=40 ................\n",
      "[CV]  max_features=sqrt, n_estimators=20, max_depth=40, score=0.628663 -   2.0s\n",
      "[CV] max_features=sqrt, n_estimators=30, max_depth=40 ................\n",
      "[CV]  max_features=sqrt, n_estimators=30, max_depth=40, score=0.635483 -   3.3s\n",
      "[CV] max_features=sqrt, n_estimators=30, max_depth=40 ................\n",
      "[CV]  max_features=sqrt, n_estimators=30, max_depth=40, score=0.635979 -   3.8s\n",
      "[CV] max_features=sqrt, n_estimators=30, max_depth=40 ................\n",
      "[CV]  max_features=sqrt, n_estimators=30, max_depth=40, score=0.632862 -   3.0s\n",
      "[CV] max_features=sqrt, n_estimators=50, max_depth=40 ................\n",
      "[CV]  max_features=sqrt, n_estimators=50, max_depth=40, score=0.641960 -   4.8s\n",
      "[CV] max_features=sqrt, n_estimators=50, max_depth=40 ................\n",
      "[CV]  max_features=sqrt, n_estimators=50, max_depth=40, score=0.646454 -   5.7s\n",
      "[CV] max_features=sqrt, n_estimators=50, max_depth=40 ................\n",
      "[CV]  max_features=sqrt, n_estimators=50, max_depth=40, score=0.641454 -   5.0s\n",
      "[CV] max_features=1, n_estimators=20, max_depth=None .................\n",
      "[CV]  max_features=1, n_estimators=20, max_depth=None, score=0.602361 -   1.2s\n",
      "[CV] max_features=1, n_estimators=20, max_depth=None .................\n",
      "[CV]  max_features=1, n_estimators=20, max_depth=None, score=0.608332 -   1.1s\n",
      "[CV] max_features=1, n_estimators=20, max_depth=None .................\n",
      "[CV]  max_features=1, n_estimators=20, max_depth=None, score=0.603265 -   1.2s\n",
      "[CV] max_features=1, n_estimators=30, max_depth=None .................\n",
      "[CV]  max_features=1, n_estimators=30, max_depth=None, score=0.611091 -   1.6s\n",
      "[CV] max_features=1, n_estimators=30, max_depth=None .................\n",
      "[CV]  max_features=1, n_estimators=30, max_depth=None, score=0.612207 -   1.7s\n",
      "[CV] max_features=1, n_estimators=30, max_depth=None .................\n",
      "[CV]  max_features=1, n_estimators=30, max_depth=None, score=0.612954 -   1.8s\n",
      "[CV] max_features=1, n_estimators=50, max_depth=None .................\n",
      "[CV]  max_features=1, n_estimators=50, max_depth=None, score=0.620436 -   2.5s\n",
      "[CV] max_features=1, n_estimators=50, max_depth=None .................\n",
      "[CV]  max_features=1, n_estimators=50, max_depth=None, score=0.618355 -   2.3s\n",
      "[CV] max_features=1, n_estimators=50, max_depth=None .................\n",
      "[CV]  max_features=1, n_estimators=50, max_depth=None, score=0.616914 -   2.7s\n",
      "[CV] max_features=3, n_estimators=20, max_depth=None .................\n",
      "[CV]  max_features=3, n_estimators=20, max_depth=None, score=0.612349 -   1.4s\n",
      "[CV] max_features=3, n_estimators=20, max_depth=None .................\n",
      "[CV]  max_features=3, n_estimators=20, max_depth=None, score=0.614088 -   1.3s\n",
      "[CV] max_features=3, n_estimators=20, max_depth=None .................\n",
      "[CV]  max_features=3, n_estimators=20, max_depth=None, score=0.616974 -   1.3s\n",
      "[CV] max_features=3, n_estimators=30, max_depth=None .................\n",
      "[CV]  max_features=3, n_estimators=30, max_depth=None, score=0.619392 -   2.0s\n",
      "[CV] max_features=3, n_estimators=30, max_depth=None .................\n",
      "[CV]  max_features=3, n_estimators=30, max_depth=None, score=0.619217 -   3.0s\n",
      "[CV] max_features=3, n_estimators=30, max_depth=None .................\n",
      "[CV]  max_features=3, n_estimators=30, max_depth=None, score=0.615736 -   2.5s\n",
      "[CV] max_features=3, n_estimators=50, max_depth=None .................\n",
      "[CV]  max_features=3, n_estimators=50, max_depth=None, score=0.623449 -   3.7s\n",
      "[CV] max_features=3, n_estimators=50, max_depth=None .................\n",
      "[CV]  max_features=3, n_estimators=50, max_depth=None, score=0.627245 -   4.4s\n",
      "[CV] max_features=3, n_estimators=50, max_depth=None .................\n",
      "[CV]  max_features=3, n_estimators=50, max_depth=None, score=0.627400 -   4.9s\n",
      "[CV] max_features=10, n_estimators=20, max_depth=None ................\n",
      "[CV]  max_features=10, n_estimators=20, max_depth=None, score=0.623754 -   3.1s\n",
      "[CV] max_features=10, n_estimators=20, max_depth=None ................\n",
      "[CV]  max_features=10, n_estimators=20, max_depth=None, score=0.621304 -   3.3s\n",
      "[CV] max_features=10, n_estimators=20, max_depth=None ................\n",
      "[CV]  max_features=10, n_estimators=20, max_depth=None, score=0.616500 -   3.1s\n",
      "[CV] max_features=10, n_estimators=30, max_depth=None ................\n",
      "[CV]  max_features=10, n_estimators=30, max_depth=None, score=0.623903 -   4.5s\n",
      "[CV] max_features=10, n_estimators=30, max_depth=None ................\n",
      "[CV]  max_features=10, n_estimators=30, max_depth=None, score=0.629499 -   4.3s\n",
      "[CV] max_features=10, n_estimators=30, max_depth=None ................\n",
      "[CV]  max_features=10, n_estimators=30, max_depth=None, score=0.625815 -   4.3s\n",
      "[CV] max_features=10, n_estimators=50, max_depth=None ................\n",
      "[CV]  max_features=10, n_estimators=50, max_depth=None, score=0.633585 -   5.9s\n",
      "[CV] max_features=10, n_estimators=50, max_depth=None ................\n",
      "[CV]  max_features=10, n_estimators=50, max_depth=None, score=0.636389 -   5.1s\n",
      "[CV] max_features=10, n_estimators=50, max_depth=None ................\n",
      "[CV]  max_features=10, n_estimators=50, max_depth=None, score=0.635068 -   5.5s\n",
      "[CV] max_features=30, n_estimators=20, max_depth=None ................\n",
      "[CV]  max_features=30, n_estimators=20, max_depth=None, score=0.620770 -   5.1s\n",
      "[CV] max_features=30, n_estimators=20, max_depth=None ................\n",
      "[CV]  max_features=30, n_estimators=20, max_depth=None, score=0.627898 -   5.9s\n",
      "[CV] max_features=30, n_estimators=20, max_depth=None ................\n",
      "[CV]  max_features=30, n_estimators=20, max_depth=None, score=0.625140 -   4.7s\n",
      "[CV] max_features=30, n_estimators=30, max_depth=None ................\n",
      "[CV]  max_features=30, n_estimators=30, max_depth=None, score=0.628227 -   7.7s\n",
      "[CV] max_features=30, n_estimators=30, max_depth=None ................\n",
      "[CV]  max_features=30, n_estimators=30, max_depth=None, score=0.635729 -   7.4s\n",
      "[CV] max_features=30, n_estimators=30, max_depth=None ................\n",
      "[CV]  max_features=30, n_estimators=30, max_depth=None, score=0.628174 -   7.3s\n",
      "[CV] max_features=30, n_estimators=50, max_depth=None ................\n",
      "[CV]  max_features=30, n_estimators=50, max_depth=None, score=0.635625 -  13.3s\n",
      "[CV] max_features=30, n_estimators=50, max_depth=None ................\n",
      "[CV]  max_features=30, n_estimators=50, max_depth=None, score=0.636698 -  14.1s\n",
      "[CV] max_features=30, n_estimators=50, max_depth=None ................\n",
      "[CV]  max_features=30, n_estimators=50, max_depth=None, score=0.637310 -  13.0s\n",
      "[CV] max_features=sqrt, n_estimators=20, max_depth=None ..............\n",
      "[CV]  max_features=sqrt, n_estimators=20, max_depth=None, score=0.619250 -   2.3s\n",
      "[CV] max_features=sqrt, n_estimators=20, max_depth=None ..............\n",
      "[CV]  max_features=sqrt, n_estimators=20, max_depth=None, score=0.623019 -   2.6s\n",
      "[CV] max_features=sqrt, n_estimators=20, max_depth=None ..............\n",
      "[CV]  max_features=sqrt, n_estimators=20, max_depth=None, score=0.622616 -   2.8s\n",
      "[CV] max_features=sqrt, n_estimators=30, max_depth=None ..............\n",
      "[CV]  max_features=sqrt, n_estimators=30, max_depth=None, score=0.629948 -   5.3s\n",
      "[CV] max_features=sqrt, n_estimators=30, max_depth=None ..............\n",
      "[CV]  max_features=sqrt, n_estimators=30, max_depth=None, score=0.634887 -   4.6s\n",
      "[CV] max_features=sqrt, n_estimators=30, max_depth=None ..............\n",
      "[CV]  max_features=sqrt, n_estimators=30, max_depth=None, score=0.630896 -   4.1s\n",
      "[CV] max_features=sqrt, n_estimators=50, max_depth=None ..............\n",
      "[CV]  max_features=sqrt, n_estimators=50, max_depth=None, score=0.637265 -   7.8s\n",
      "[CV] max_features=sqrt, n_estimators=50, max_depth=None ..............\n",
      "[CV]  max_features=sqrt, n_estimators=50, max_depth=None, score=0.638681 -   7.3s\n",
      "[CV] max_features=sqrt, n_estimators=50, max_depth=None ..............\n",
      "[CV]  max_features=sqrt, n_estimators=50, max_depth=None, score=0.637516 -   7.3s\n"
     ]
    },
    {
     "name": "stderr",
     "output_type": "stream",
     "text": [
      "[Parallel(n_jobs=1)]: Done 270 out of 270 | elapsed: 10.6min finished\n"
     ]
    },
    {
     "data": {
      "text/plain": [
       "GridSearchCV(cv=sklearn.cross_validation.StratifiedKFold(labels=[1 1 ..., 0 0], n_folds=3, shuffle=False, random_state=444),\n",
       "       error_score='raise',\n",
       "       estimator=RandomForestClassifier(bootstrap=True, class_weight=None, criterion='gini',\n",
       "            max_depth=None, max_features='auto', max_leaf_nodes=None,\n",
       "            min_samples_leaf=1, min_samples_split=2,\n",
       "            min_weight_fraction_leaf=0.0, n_estimators=10, n_jobs=-1,\n",
       "            oob_score=False, random_state=None, verbose=0,\n",
       "            warm_start=False),\n",
       "       fit_params={}, iid=True, n_jobs=1,\n",
       "       param_grid={'max_features': [1, 3, 10, 30, 'sqrt'], 'n_estimators': [20, 30, 50], 'max_depth': [1, 5, 10, 20, 40, None]},\n",
       "       pre_dispatch='2*n_jobs', refit=True, scoring='roc_auc', verbose=5)"
      ]
     },
     "execution_count": 44,
     "metadata": {},
     "output_type": "execute_result"
    }
   ],
   "source": [
    "param_grid = {\"max_depth\": [1, 5, 10, 20, 40, None],\n",
    "              \"max_features\": [1, 3, 10, 30, \"sqrt\"], \n",
    "             \"n_estimators\": [20, 30, 50]}\n",
    "grid_search = GridSearchCV(RFC, scoring = \"roc_auc\", param_grid=param_grid, verbose = 5, cv = StratifiedKFold(usy_train, random_state = 444))\n",
    "grid_search.fit(usx_train, usy_train)"
   ]
  },
  {
   "cell_type": "code",
   "execution_count": 49,
   "metadata": {
    "collapsed": false,
    "scrolled": true
   },
   "outputs": [
    {
     "name": "stdout",
     "output_type": "stream",
     "text": [
      "Model with rank: 1\n",
      "Mean validation score: 0.645 (std: 0.002)\n",
      "Parameters: {'max_features': 'sqrt', 'n_estimators': 50, 'max_depth': 20}\n",
      "\n",
      "Model with rank: 2\n",
      "Mean validation score: 0.643 (std: 0.002)\n",
      "Parameters: {'max_features': 'sqrt', 'n_estimators': 50, 'max_depth': 40}\n",
      "\n",
      "Model with rank: 3\n",
      "Mean validation score: 0.643 (std: 0.003)\n",
      "Parameters: {'max_features': 10, 'n_estimators': 50, 'max_depth': 20}\n",
      "\n"
     ]
    }
   ],
   "source": [
    "def report(grid_scores, n_top=3):\n",
    "    top_scores = sorted(grid_scores, key = operator.itemgetter(1), reverse=True)[:n_top]\n",
    "    for i, score in enumerate(top_scores):\n",
    "        print(\"Model with rank: {0}\".format(i + 1))\n",
    "        print(\"Mean validation score: {0:.3f} (std: {1:.3f})\".format(\n",
    "              score.mean_validation_score,\n",
    "              np.std(score.cv_validation_scores)))\n",
    "        print(\"Parameters: {0}\".format(score.parameters))\n",
    "        print(\"\")\n",
    "report(grid_search.grid_scores_)"
   ]
  },
  {
   "cell_type": "markdown",
   "metadata": {},
   "source": [
    "#### Looks like was doing well with sqrt of max_features, larger estimators, and bigger max_depth (but not none). Let's keep tuning"
   ]
  },
  {
   "cell_type": "code",
   "execution_count": 56,
   "metadata": {
    "collapsed": false
   },
   "outputs": [
    {
     "name": "stdout",
     "output_type": "stream",
     "text": [
      "Fitting 3 folds for each of 12 candidates, totalling 36 fits\n",
      "[CV] max_features=sqrt, n_estimators=50, max_depth=20 ................\n",
      "[CV]  max_features=sqrt, n_estimators=50, max_depth=20, score=0.642653 -   4.6s\n",
      "[CV] max_features=sqrt, n_estimators=50, max_depth=20 ................\n",
      "[CV]  max_features=sqrt, n_estimators=50, max_depth=20, score=0.645904 -   5.0s\n",
      "[CV] max_features=sqrt, n_estimators=50, max_depth=20 ................\n",
      "[CV]  max_features=sqrt, n_estimators=50, max_depth=20, score=0.643075 -   5.7s\n",
      "[CV] max_features=sqrt, n_estimators=80, max_depth=20 ................\n",
      "[CV]  max_features=sqrt, n_estimators=80, max_depth=20, score=0.644923 -   7.6s\n",
      "[CV] max_features=sqrt, n_estimators=80, max_depth=20 ................\n",
      "[CV]  max_features=sqrt, n_estimators=80, max_depth=20, score=0.649064 -   7.7s\n",
      "[CV] max_features=sqrt, n_estimators=80, max_depth=20 ................\n",
      "[CV]  max_features=sqrt, n_estimators=80, max_depth=20, score=0.646517 -   8.3s\n",
      "[CV] max_features=sqrt, n_estimators=100, max_depth=20 ...............\n",
      "[CV]  max_features=sqrt, n_estimators=100, max_depth=20, score=0.645437 -  10.5s\n",
      "[CV] max_features=sqrt, n_estimators=100, max_depth=20 ...............\n",
      "[CV]  max_features=sqrt, n_estimators=100, max_depth=20, score=0.649570 -  15.1s\n",
      "[CV] max_features=sqrt, n_estimators=100, max_depth=20 ...............\n",
      "[CV]  max_features=sqrt, n_estimators=100, max_depth=20, score=0.645358 -  13.6s\n",
      "[CV] max_features=sqrt, n_estimators=50, max_depth=40 ................\n",
      "[CV]  max_features=sqrt, n_estimators=50, max_depth=40, score=0.641858 -  11.9s\n",
      "[CV] max_features=sqrt, n_estimators=50, max_depth=40 ................\n",
      "[CV]  max_features=sqrt, n_estimators=50, max_depth=40, score=0.648332 -   8.2s\n",
      "[CV] max_features=sqrt, n_estimators=50, max_depth=40 ................\n",
      "[CV]  max_features=sqrt, n_estimators=50, max_depth=40, score=0.641687 -   6.4s\n",
      "[CV] max_features=sqrt, n_estimators=80, max_depth=40 ................\n",
      "[CV]  max_features=sqrt, n_estimators=80, max_depth=40, score=0.642933 -   8.9s\n",
      "[CV] max_features=sqrt, n_estimators=80, max_depth=40 ................\n",
      "[CV]  max_features=sqrt, n_estimators=80, max_depth=40, score=0.648953 -   8.3s\n",
      "[CV] max_features=sqrt, n_estimators=80, max_depth=40 ................\n",
      "[CV]  max_features=sqrt, n_estimators=80, max_depth=40, score=0.642924 -   9.3s\n",
      "[CV] max_features=sqrt, n_estimators=100, max_depth=40 ...............\n",
      "[CV]  max_features=sqrt, n_estimators=100, max_depth=40, score=0.645912 -  13.8s\n",
      "[CV] max_features=sqrt, n_estimators=100, max_depth=40 ...............\n",
      "[CV]  max_features=sqrt, n_estimators=100, max_depth=40, score=0.649577 -  13.1s\n",
      "[CV] max_features=sqrt, n_estimators=100, max_depth=40 ...............\n"
     ]
    },
    {
     "name": "stderr",
     "output_type": "stream",
     "text": [
      "[Parallel(n_jobs=1)]: Done  17 tasks       | elapsed:  2.6min\n"
     ]
    },
    {
     "name": "stdout",
     "output_type": "stream",
     "text": [
      "[CV]  max_features=sqrt, n_estimators=100, max_depth=40, score=0.642873 -  14.6s\n",
      "[CV] max_features=sqrt, n_estimators=50, max_depth=50 ................\n",
      "[CV]  max_features=sqrt, n_estimators=50, max_depth=50, score=0.638113 -   6.4s\n",
      "[CV] max_features=sqrt, n_estimators=50, max_depth=50 ................\n",
      "[CV]  max_features=sqrt, n_estimators=50, max_depth=50, score=0.640959 -   5.6s\n",
      "[CV] max_features=sqrt, n_estimators=50, max_depth=50 ................\n",
      "[CV]  max_features=sqrt, n_estimators=50, max_depth=50, score=0.640814 -   5.7s\n",
      "[CV] max_features=sqrt, n_estimators=80, max_depth=50 ................\n",
      "[CV]  max_features=sqrt, n_estimators=80, max_depth=50, score=0.644732 -   8.2s\n",
      "[CV] max_features=sqrt, n_estimators=80, max_depth=50 ................\n",
      "[CV]  max_features=sqrt, n_estimators=80, max_depth=50, score=0.644802 -   8.2s\n",
      "[CV] max_features=sqrt, n_estimators=80, max_depth=50 ................\n",
      "[CV]  max_features=sqrt, n_estimators=80, max_depth=50, score=0.639626 -   8.0s\n",
      "[CV] max_features=sqrt, n_estimators=100, max_depth=50 ...............\n",
      "[CV]  max_features=sqrt, n_estimators=100, max_depth=50, score=0.645357 -  13.2s\n",
      "[CV] max_features=sqrt, n_estimators=100, max_depth=50 ...............\n",
      "[CV]  max_features=sqrt, n_estimators=100, max_depth=50, score=0.645065 -  13.4s\n",
      "[CV] max_features=sqrt, n_estimators=100, max_depth=50 ...............\n",
      "[CV]  max_features=sqrt, n_estimators=100, max_depth=50, score=0.643749 -  16.8s\n",
      "[CV] max_features=sqrt, n_estimators=50, max_depth=70 ................\n",
      "[CV]  max_features=sqrt, n_estimators=50, max_depth=70, score=0.636377 -   7.0s\n",
      "[CV] max_features=sqrt, n_estimators=50, max_depth=70 ................\n",
      "[CV]  max_features=sqrt, n_estimators=50, max_depth=70, score=0.636863 -   6.2s\n",
      "[CV] max_features=sqrt, n_estimators=50, max_depth=70 ................\n",
      "[CV]  max_features=sqrt, n_estimators=50, max_depth=70, score=0.632811 -   5.8s\n",
      "[CV] max_features=sqrt, n_estimators=80, max_depth=70 ................\n",
      "[CV]  max_features=sqrt, n_estimators=80, max_depth=70, score=0.639063 -   9.4s\n",
      "[CV] max_features=sqrt, n_estimators=80, max_depth=70 ................\n",
      "[CV]  max_features=sqrt, n_estimators=80, max_depth=70, score=0.644030 -   9.3s\n",
      "[CV] max_features=sqrt, n_estimators=80, max_depth=70 ................\n",
      "[CV]  max_features=sqrt, n_estimators=80, max_depth=70, score=0.642340 -   9.3s\n",
      "[CV] max_features=sqrt, n_estimators=100, max_depth=70 ...............\n",
      "[CV]  max_features=sqrt, n_estimators=100, max_depth=70, score=0.640151 -  11.1s\n",
      "[CV] max_features=sqrt, n_estimators=100, max_depth=70 ...............\n",
      "[CV]  max_features=sqrt, n_estimators=100, max_depth=70, score=0.643563 -  11.1s\n",
      "[CV] max_features=sqrt, n_estimators=100, max_depth=70 ...............\n",
      "[CV]  max_features=sqrt, n_estimators=100, max_depth=70, score=0.641436 -  10.9s\n"
     ]
    },
    {
     "name": "stderr",
     "output_type": "stream",
     "text": [
      "[Parallel(n_jobs=1)]: Done  36 out of  36 | elapsed:  5.7min finished\n"
     ]
    },
    {
     "data": {
      "text/plain": [
       "GridSearchCV(cv=sklearn.cross_validation.StratifiedKFold(labels=[1 1 ..., 0 0], n_folds=3, shuffle=False, random_state=444),\n",
       "       error_score='raise',\n",
       "       estimator=RandomForestClassifier(bootstrap=True, class_weight=None, criterion='gini',\n",
       "            max_depth=None, max_features='auto', max_leaf_nodes=None,\n",
       "            min_samples_leaf=1, min_samples_split=2,\n",
       "            min_weight_fraction_leaf=0.0, n_estimators=10, n_jobs=-1,\n",
       "            oob_score=False, random_state=None, verbose=0,\n",
       "            warm_start=False),\n",
       "       fit_params={}, iid=True, n_jobs=1,\n",
       "       param_grid={'max_features': ['sqrt'], 'n_estimators': [50, 80, 100], 'max_depth': [20, 40, 50, 70]},\n",
       "       pre_dispatch='2*n_jobs', refit=True, scoring='roc_auc', verbose=5)"
      ]
     },
     "execution_count": 56,
     "metadata": {},
     "output_type": "execute_result"
    }
   ],
   "source": [
    "param_grid = {\"max_depth\": [20, 40, 50, 70],\n",
    "              \"max_features\": [\"sqrt\"], \n",
    "             \"n_estimators\": [50, 80, 100]}\n",
    "grid_search = GridSearchCV(RFC, scoring = \"roc_auc\", param_grid=param_grid, verbose = 5, cv = StratifiedKFold(usy_train, random_state = 444))\n",
    "grid_search.fit(usx_train, usy_train)"
   ]
  },
  {
   "cell_type": "code",
   "execution_count": 57,
   "metadata": {
    "collapsed": false
   },
   "outputs": [
    {
     "name": "stdout",
     "output_type": "stream",
     "text": [
      "Model with rank: 1\n",
      "Mean validation score: 0.647 (std: 0.002)\n",
      "Parameters: {'max_features': 'sqrt', 'n_estimators': 80, 'max_depth': 20}\n",
      "\n",
      "Model with rank: 2\n",
      "Mean validation score: 0.647 (std: 0.002)\n",
      "Parameters: {'max_features': 'sqrt', 'n_estimators': 100, 'max_depth': 20}\n",
      "\n",
      "Model with rank: 3\n",
      "Mean validation score: 0.646 (std: 0.003)\n",
      "Parameters: {'max_features': 'sqrt', 'n_estimators': 100, 'max_depth': 40}\n",
      "\n"
     ]
    }
   ],
   "source": [
    "def report(grid_scores, n_top=3):\n",
    "    top_scores = sorted(grid_scores, key = operator.itemgetter(1), reverse=True)[:n_top]\n",
    "    for i, score in enumerate(top_scores):\n",
    "        print(\"Model with rank: {0}\".format(i + 1))\n",
    "        print(\"Mean validation score: {0:.3f} (std: {1:.3f})\".format(\n",
    "              score.mean_validation_score,\n",
    "              np.std(score.cv_validation_scores)))\n",
    "        print(\"Parameters: {0}\".format(score.parameters))\n",
    "        print(\"\")\n",
    "report(grid_search.grid_scores_)"
   ]
  },
  {
   "cell_type": "code",
   "execution_count": 85,
   "metadata": {
    "collapsed": false
   },
   "outputs": [
    {
     "name": "stdout",
     "output_type": "stream",
     "text": [
      "0.601033625117\n",
      "0.642561352704\n"
     ]
    },
    {
     "ename": "NameError",
     "evalue": "name 'recall' is not defined",
     "output_type": "error",
     "traceback": [
      "\u001b[0;31m---------------------------------------------------------------------------\u001b[0m",
      "\u001b[0;31mNameError\u001b[0m                                 Traceback (most recent call last)",
      "\u001b[0;32m<ipython-input-85-62ec3cf6e03a>\u001b[0m in \u001b[0;36m<module>\u001b[0;34m()\u001b[0m\n\u001b[1;32m      3\u001b[0m \u001b[0;32mprint\u001b[0m\u001b[0;34m(\u001b[0m\u001b[0maccuracy_score\u001b[0m\u001b[0;34m(\u001b[0m\u001b[0my_test\u001b[0m\u001b[0;34m,\u001b[0m \u001b[0mRFC\u001b[0m\u001b[0;34m.\u001b[0m\u001b[0mpredict\u001b[0m\u001b[0;34m(\u001b[0m\u001b[0mx_test\u001b[0m\u001b[0;34m)\u001b[0m\u001b[0;34m)\u001b[0m\u001b[0;34m)\u001b[0m\u001b[0;34m\u001b[0m\u001b[0m\n\u001b[1;32m      4\u001b[0m \u001b[0;32mprint\u001b[0m\u001b[0;34m(\u001b[0m\u001b[0mroc_auc_score\u001b[0m\u001b[0;34m(\u001b[0m\u001b[0my_test\u001b[0m\u001b[0;34m,\u001b[0m \u001b[0mRFC\u001b[0m\u001b[0;34m.\u001b[0m\u001b[0mpredict_proba\u001b[0m\u001b[0;34m(\u001b[0m\u001b[0mx_test\u001b[0m\u001b[0;34m)\u001b[0m\u001b[0;34m[\u001b[0m\u001b[0;34m:\u001b[0m\u001b[0;34m,\u001b[0m\u001b[0;36m1\u001b[0m\u001b[0;34m]\u001b[0m\u001b[0;34m)\u001b[0m\u001b[0;34m)\u001b[0m\u001b[0;34m\u001b[0m\u001b[0m\n\u001b[0;32m----> 5\u001b[0;31m \u001b[0;32mprint\u001b[0m\u001b[0;34m(\u001b[0m\u001b[0mrecall\u001b[0m\u001b[0;34m(\u001b[0m\u001b[0my_test\u001b[0m\u001b[0;34m,\u001b[0m \u001b[0mRFC\u001b[0m\u001b[0;34m.\u001b[0m\u001b[0mpredict\u001b[0m\u001b[0;34m(\u001b[0m\u001b[0mx_test\u001b[0m\u001b[0;34m)\u001b[0m\u001b[0;34m)\u001b[0m\u001b[0;34m)\u001b[0m\u001b[0;34m\u001b[0m\u001b[0m\n\u001b[0m",
      "\u001b[0;31mNameError\u001b[0m: name 'recall' is not defined"
     ]
    }
   ],
   "source": [
    "RFC = RandomForestClassifier(n_jobs = -1, max_features = 'sqrt', n_estimators = 80, max_depth =  20)\n",
    "RFC.fit(usx_train, usy_train) \n",
    "print(accuracy_score(y_test, RFC.predict(x_test)))\n",
    "print(roc_auc_score(y_test, RFC.predict_proba(x_test)[:,1]))"
   ]
  },
  {
   "cell_type": "code",
   "execution_count": 141,
   "metadata": {
    "collapsed": true
   },
   "outputs": [],
   "source": [
    "RFC1 = RandomForestClassifier(n_jobs = -1, max_features = 'sqrt', class_weight = \"balanced\", n_estimators = 80, max_depth =  20)\n"
   ]
  },
  {
   "cell_type": "code",
   "execution_count": 142,
   "metadata": {
    "collapsed": false
   },
   "outputs": [
    {
     "data": {
      "text/plain": [
       "RandomForestClassifier(bootstrap=True, class_weight='balanced',\n",
       "            criterion='gini', max_depth=20, max_features='sqrt',\n",
       "            max_leaf_nodes=None, min_samples_leaf=1, min_samples_split=2,\n",
       "            min_weight_fraction_leaf=0.0, n_estimators=80, n_jobs=-1,\n",
       "            oob_score=False, random_state=None, verbose=0,\n",
       "            warm_start=False)"
      ]
     },
     "execution_count": 142,
     "metadata": {},
     "output_type": "execute_result"
    }
   ],
   "source": [
    "RFC1.fit(x_train, y_train)"
   ]
  },
  {
   "cell_type": "code",
   "execution_count": 276,
   "metadata": {
    "collapsed": false
   },
   "outputs": [
    {
     "data": {
      "text/plain": [
       "RandomForestClassifier(bootstrap=True, class_weight=None, criterion='gini',\n",
       "            max_depth=20, max_features='sqrt', max_leaf_nodes=None,\n",
       "            min_samples_leaf=1, min_samples_split=2,\n",
       "            min_weight_fraction_leaf=0.0, n_estimators=80, n_jobs=-1,\n",
       "            oob_score=False, random_state=None, verbose=0,\n",
       "            warm_start=False)"
      ]
     },
     "execution_count": 276,
     "metadata": {},
     "output_type": "execute_result"
    }
   ],
   "source": [
    "RFC2 = RandomForestClassifier(n_jobs = -1, max_features = 'sqrt', n_estimators = 80, max_depth =  20)\n",
    "RFC2.fit(x_train, y_train)"
   ]
  },
  {
   "cell_type": "code",
   "execution_count": 284,
   "metadata": {
    "collapsed": false
   },
   "outputs": [
    {
     "data": {
      "text/plain": [
       "RandomForestClassifier(bootstrap=True, class_weight=None, criterion='gini',\n",
       "            max_depth=40, max_features='sqrt', max_leaf_nodes=None,\n",
       "            min_samples_leaf=1, min_samples_split=2,\n",
       "            min_weight_fraction_leaf=0.0, n_estimators=100, n_jobs=-1,\n",
       "            oob_score=False, random_state=None, verbose=0,\n",
       "            warm_start=False)"
      ]
     },
     "execution_count": 284,
     "metadata": {},
     "output_type": "execute_result"
    }
   ],
   "source": [
    "RFC3 = RandomForestClassifier(n_jobs = -1, max_features = 'sqrt', n_estimators = 100, max_depth =  40)\n",
    "RFC3.fit(x_train, y_train)"
   ]
  },
  {
   "cell_type": "code",
   "execution_count": 291,
   "metadata": {
    "collapsed": false
   },
   "outputs": [
    {
     "data": {
      "text/plain": [
       "RandomForestClassifier(bootstrap=True, class_weight={0: 0.3, 1: 0.7},\n",
       "            criterion='gini', max_depth=40, max_features='sqrt',\n",
       "            max_leaf_nodes=None, min_samples_leaf=1, min_samples_split=2,\n",
       "            min_weight_fraction_leaf=0.0, n_estimators=100, n_jobs=-1,\n",
       "            oob_score=False, random_state=None, verbose=0,\n",
       "            warm_start=False)"
      ]
     },
     "execution_count": 291,
     "metadata": {},
     "output_type": "execute_result"
    }
   ],
   "source": [
    "RFC4 = RandomForestClassifier(class_weight = {0: .3, 1: .7}, n_jobs = -1, max_features = 'sqrt', n_estimators = 100, max_depth =  40)\n",
    "RFC4.fit(x_train, y_train)"
   ]
  },
  {
   "cell_type": "code",
   "execution_count": 299,
   "metadata": {
    "collapsed": false
   },
   "outputs": [],
   "source": [
    "from imblearn.over_sampling import SMOTE\n",
    "smote = SMOTE(kind='regular')\n",
    "smox, smoy = smote.fit_sample(x_train, y_train)\n"
   ]
  },
  {
   "cell_type": "code",
   "execution_count": 300,
   "metadata": {
    "collapsed": false
   },
   "outputs": [
    {
     "data": {
      "text/plain": [
       "RandomForestClassifier(bootstrap=True, class_weight=None, criterion='gini',\n",
       "            max_depth=20, max_features='sqrt', max_leaf_nodes=None,\n",
       "            min_samples_leaf=1, min_samples_split=2,\n",
       "            min_weight_fraction_leaf=0.0, n_estimators=80, n_jobs=-1,\n",
       "            oob_score=False, random_state=None, verbose=0,\n",
       "            warm_start=False)"
      ]
     },
     "execution_count": 300,
     "metadata": {},
     "output_type": "execute_result"
    }
   ],
   "source": [
    "RFC5 = RandomForestClassifier(n_jobs = -1, max_features = 'sqrt', n_estimators = 80, max_depth =  20)\n",
    "RFC5.fit(smox, smoy)"
   ]
  },
  {
   "cell_type": "code",
   "execution_count": 314,
   "metadata": {
    "collapsed": false
   },
   "outputs": [
    {
     "name": "stdout",
     "output_type": "stream",
     "text": [
      "0.0\n",
      "0.940721599535\n",
      "0.606541258394\n"
     ]
    }
   ],
   "source": [
    "print(recall_score(y_test, RFC5.predict(x_test)))\n",
    "print(accuracy_score(y_test, RFC5.predict(x_test)))\n",
    "print(roc_auc_score(y_test, RFC5.predict_proba(x_test)[:,1]))"
   ]
  },
  {
   "cell_type": "code",
   "execution_count": 317,
   "metadata": {
    "collapsed": false
   },
   "outputs": [
    {
     "name": "stdout",
     "output_type": "stream",
     "text": [
      "0.00392327811683\n",
      "0.940049743209\n",
      "0.632813556681\n"
     ]
    }
   ],
   "source": [
    "print(recall_scoreb(y_test, RFC4.predict(x_test)))\n",
    "print(accuracy_score(y_test, RFC4.predict(x_test)))\n",
    "print(roc_auc_score(y_test, RFC4.predict_proba(x_test)[:,1]))"
   ]
  },
  {
   "cell_type": "code",
   "execution_count": 320,
   "metadata": {
    "collapsed": true
   },
   "outputs": [],
   "source": [
    "from sklearn.metrics import roc_curve, auc\n",
    "import matplotlib.pyplot as plt\n"
   ]
  },
  {
   "cell_type": "code",
   "execution_count": 327,
   "metadata": {
    "collapsed": true
   },
   "outputs": [],
   "source": [
    "false_positive_rate, true_positive_rate, thresholds = roc_curve(y_test, RFC.predict_proba(x_test)[:,1])\n",
    "roc_auc = auc(false_positive_rate, true_positive_rate)"
   ]
  },
  {
   "cell_type": "code",
   "execution_count": 321,
   "metadata": {
    "collapsed": false
   },
   "outputs": [],
   "source": [
    "false_positive_rate, true_positive_rate, thresholds = roc_curve(y_test, RFC4.predict_proba(x_test)[:,1])\n",
    "roc_auc = auc(false_positive_rate, true_positive_rate)"
   ]
  },
  {
   "cell_type": "code",
   "execution_count": 337,
   "metadata": {
    "collapsed": false,
    "scrolled": true
   },
   "outputs": [
    {
     "data": {
      "image/png": "[encoded data removed]",
      "text/plain": [
       "<matplotlib.figure.Figure at 0x290da8cd0>"
      ]
     },
     "metadata": {},
     "output_type": "display_data"
    }
   ],
   "source": [
    "plt.title('Receiver Operating Characteristic')\n",
    "plt.plot(false_positive_rate, true_positive_rate,\n",
    "label='AUC = %0.2f'% roc_auc)\n",
    "plt.legend(loc='lower right')\n",
    "plt.plot([0,1],[0,1],'r--')\n",
    "plt.xlim([-0.1,1.2])\n",
    "plt.ylim([-0.1,1.2])\n",
    "plt.ylabel('True Positive Rate')\n",
    "plt.xlabel('False Positive Rate')\n",
    "plt.savefig(\"ROC.png\")"
   ]
  },
  {
   "cell_type": "code",
   "execution_count": 243,
   "metadata": {
    "collapsed": false
   },
   "outputs": [
    {
     "name": "stdout",
     "output_type": "stream",
     "text": [
      "0.378378378378\n",
      "0.759682160276\n",
      "0.63625869902\n"
     ]
    }
   ],
   "source": [
    "print(recall_score(y_test, RFC1.predict(x_test)))\n",
    "print(accuracy_score(y_test, RFC1.predict(x_test)))\n",
    "print(roc_auc_score(y_test, RFC1.predict_proba(x_test)[:,1]))"
   ]
  },
  {
   "cell_type": "code",
   "execution_count": 244,
   "metadata": {
    "collapsed": false
   },
   "outputs": [
    {
     "name": "stdout",
     "output_type": "stream",
     "text": [
      "0.652921087051\n",
      "0.789417355932\n",
      "0.823164514796\n"
     ]
    }
   ],
   "source": [
    "print(recall_score(y_train, RFC1.predict(x_train)))\n",
    "print(accuracy_score(y_train, RFC1.predict(x_train)))\n",
    "print(roc_auc_score(y_train, RFC1.predict_proba(x_train)[:,1]))"
   ]
  },
  {
   "cell_type": "code",
   "execution_count": 87,
   "metadata": {
    "collapsed": false
   },
   "outputs": [
    {
     "name": "stdout",
     "output_type": "stream",
     "text": [
      "0.599280732345\n"
     ]
    }
   ],
   "source": [
    "from sklearn.metrics import recall_score\n",
    "print(recall_score(y_test, RFC.predict(x_test)))"
   ]
  },
  {
   "cell_type": "markdown",
   "metadata": {},
   "source": [
    "### Create Submission Sets for KDD"
   ]
  },
  {
   "cell_type": "code",
   "execution_count": 116,
   "metadata": {
    "collapsed": false
   },
   "outputs": [],
   "source": [
    "sub_set = sub_set.fillna(value = 0)"
   ]
  },
  {
   "cell_type": "code",
   "execution_count": 146,
   "metadata": {
    "collapsed": true
   },
   "outputs": [],
   "source": [
    "ss = sub_set"
   ]
  },
  {
   "cell_type": "code",
   "execution_count": 161,
   "metadata": {
    "collapsed": false
   },
   "outputs": [],
   "source": [
    "for column in x_train.columns:\n",
    "    if column not in sub_set.columns: \n",
    "        ss[column] = 0  \n",
    "\n",
    "for column in ss.columns:\n",
    "    if column not in x_train.columns: \n",
    "        ss = ss.drop(\"teacher_prefix_\", axis = 1)"
   ]
  },
  {
   "cell_type": "code",
   "execution_count": 136,
   "metadata": {
    "collapsed": false
   },
   "outputs": [
    {
     "data": {
      "text/html": [
       "<div>\n",
       "<table border=\"1\" class=\"dataframe\">\n",
       "  <thead>\n",
       "    <tr style=\"text-align: right;\">\n",
       "      <th></th>\n",
       "      <th>school_charter</th>\n",
       "      <th>school_magnet</th>\n",
       "      <th>school_year_round</th>\n",
       "      <th>school_nlns</th>\n",
       "      <th>school_kipp</th>\n",
       "      <th>school_charter_ready_promise</th>\n",
       "      <th>school_state_AK</th>\n",
       "      <th>school_state_AL</th>\n",
       "      <th>school_state_AR</th>\n",
       "      <th>school_state_AZ</th>\n",
       "      <th>school_state_CA</th>\n",
       "      <th>school_state_CO</th>\n",
       "      <th>school_state_CT</th>\n",
       "      <th>school_state_DC</th>\n",
       "      <th>school_state_DE</th>\n",
       "      <th>school_state_FL</th>\n",
       "      <th>school_state_GA</th>\n",
       "      <th>school_state_HI</th>\n",
       "      <th>school_state_IA</th>\n",
       "      <th>school_state_ID</th>\n",
       "      <th>school_state_IL</th>\n",
       "      <th>school_state_IN</th>\n",
       "      <th>school_state_KS</th>\n",
       "      <th>school_state_KY</th>\n",
       "      <th>school_state_LA</th>\n",
       "      <th>school_state_MA</th>\n",
       "      <th>school_state_MD</th>\n",
       "      <th>school_state_ME</th>\n",
       "      <th>school_state_MI</th>\n",
       "      <th>school_state_MN</th>\n",
       "      <th>school_state_MO</th>\n",
       "      <th>school_state_MS</th>\n",
       "      <th>school_state_MT</th>\n",
       "      <th>school_state_NC</th>\n",
       "      <th>school_state_ND</th>\n",
       "      <th>school_state_NE</th>\n",
       "      <th>school_state_NH</th>\n",
       "      <th>school_state_NJ</th>\n",
       "      <th>school_state_NM</th>\n",
       "      <th>school_state_NV</th>\n",
       "      <th>school_state_NY</th>\n",
       "      <th>school_state_OH</th>\n",
       "      <th>school_state_OK</th>\n",
       "      <th>school_state_OR</th>\n",
       "      <th>school_state_PA</th>\n",
       "      <th>school_state_RI</th>\n",
       "      <th>school_state_SC</th>\n",
       "      <th>school_state_SD</th>\n",
       "      <th>school_state_TN</th>\n",
       "      <th>school_state_TX</th>\n",
       "      <th>school_state_UT</th>\n",
       "      <th>school_state_VA</th>\n",
       "      <th>school_state_VT</th>\n",
       "      <th>school_state_WA</th>\n",
       "      <th>school_state_WI</th>\n",
       "      <th>school_state_WV</th>\n",
       "      <th>school_state_WY</th>\n",
       "      <th>school_metro_rural</th>\n",
       "      <th>school_metro_suburban</th>\n",
       "      <th>school_metro_urban</th>\n",
       "      <th>teacher_prefix_</th>\n",
       "      <th>teacher_prefix_Dr.</th>\n",
       "      <th>teacher_prefix_Mr.</th>\n",
       "      <th>teacher_prefix_Mrs.</th>\n",
       "      <th>teacher_prefix_Ms.</th>\n",
       "      <th>primary_focus_subject_Applied Sciences</th>\n",
       "      <th>primary_focus_subject_Character Education</th>\n",
       "      <th>primary_focus_subject_Civics &amp; Government</th>\n",
       "      <th>primary_focus_subject_College &amp; Career Prep</th>\n",
       "      <th>primary_focus_subject_Community Service</th>\n",
       "      <th>primary_focus_subject_ESL</th>\n",
       "      <th>primary_focus_subject_Early Development</th>\n",
       "      <th>primary_focus_subject_Economics</th>\n",
       "      <th>primary_focus_subject_Environmental Science</th>\n",
       "      <th>primary_focus_subject_Extracurricular</th>\n",
       "      <th>primary_focus_subject_Foreign Languages</th>\n",
       "      <th>primary_focus_subject_Gym &amp; Fitness</th>\n",
       "      <th>primary_focus_subject_Health &amp; Life Science</th>\n",
       "      <th>primary_focus_subject_Health &amp; Wellness</th>\n",
       "      <th>primary_focus_subject_History &amp; Geography</th>\n",
       "      <th>primary_focus_subject_Literacy</th>\n",
       "      <th>primary_focus_subject_Literature &amp; Writing</th>\n",
       "      <th>primary_focus_subject_Mathematics</th>\n",
       "      <th>primary_focus_subject_Music</th>\n",
       "      <th>primary_focus_subject_Nutrition</th>\n",
       "      <th>primary_focus_subject_Other</th>\n",
       "      <th>primary_focus_subject_Parent Involvement</th>\n",
       "      <th>primary_focus_subject_Performing Arts</th>\n",
       "      <th>primary_focus_subject_Social Sciences</th>\n",
       "      <th>primary_focus_subject_Special Needs</th>\n",
       "      <th>primary_focus_subject_Sports</th>\n",
       "      <th>primary_focus_subject_Visual Arts</th>\n",
       "      <th>secondary_focus_subject_Applied Sciences</th>\n",
       "      <th>secondary_focus_subject_Character Education</th>\n",
       "      <th>secondary_focus_subject_Civics &amp; Government</th>\n",
       "      <th>secondary_focus_subject_College &amp; Career Prep</th>\n",
       "      <th>secondary_focus_subject_Community Service</th>\n",
       "      <th>secondary_focus_subject_ESL</th>\n",
       "      <th>secondary_focus_subject_Early Development</th>\n",
       "      <th>secondary_focus_subject_Economics</th>\n",
       "      <th>secondary_focus_subject_Environmental Science</th>\n",
       "      <th>secondary_focus_subject_Extracurricular</th>\n",
       "      <th>secondary_focus_subject_Foreign Languages</th>\n",
       "      <th>secondary_focus_subject_Gym &amp; Fitness</th>\n",
       "      <th>secondary_focus_subject_Health &amp; Life Science</th>\n",
       "      <th>secondary_focus_subject_Health &amp; Wellness</th>\n",
       "      <th>secondary_focus_subject_History &amp; Geography</th>\n",
       "      <th>secondary_focus_subject_Literacy</th>\n",
       "      <th>secondary_focus_subject_Literature &amp; Writing</th>\n",
       "      <th>secondary_focus_subject_Mathematics</th>\n",
       "      <th>secondary_focus_subject_Music</th>\n",
       "      <th>secondary_focus_subject_Nutrition</th>\n",
       "      <th>secondary_focus_subject_Other</th>\n",
       "      <th>secondary_focus_subject_Parent Involvement</th>\n",
       "      <th>secondary_focus_subject_Performing Arts</th>\n",
       "      <th>secondary_focus_subject_Social Sciences</th>\n",
       "      <th>secondary_focus_subject_Special Needs</th>\n",
       "      <th>secondary_focus_subject_Sports</th>\n",
       "      <th>secondary_focus_subject_Visual Arts</th>\n",
       "      <th>primary_focus_area_Applied Learning</th>\n",
       "      <th>primary_focus_area_Health &amp; Sports</th>\n",
       "      <th>primary_focus_area_History &amp; Civics</th>\n",
       "      <th>primary_focus_area_Literacy &amp; Language</th>\n",
       "      <th>primary_focus_area_Math &amp; Science</th>\n",
       "      <th>primary_focus_area_Music &amp; The Arts</th>\n",
       "      <th>primary_focus_area_Special Needs</th>\n",
       "      <th>secondary_focus_area_Applied Learning</th>\n",
       "      <th>secondary_focus_area_Health &amp; Sports</th>\n",
       "      <th>secondary_focus_area_History &amp; Civics</th>\n",
       "      <th>secondary_focus_area_Literacy &amp; Language</th>\n",
       "      <th>secondary_focus_area_Math &amp; Science</th>\n",
       "      <th>secondary_focus_area_Music &amp; The Arts</th>\n",
       "      <th>secondary_focus_area_Special Needs</th>\n",
       "      <th>resource_type_Books</th>\n",
       "      <th>resource_type_Other</th>\n",
       "      <th>resource_type_Supplies</th>\n",
       "      <th>resource_type_Technology</th>\n",
       "      <th>resource_type_Trips</th>\n",
       "      <th>resource_type_Visitors</th>\n",
       "      <th>teacher_teach_for_america</th>\n",
       "      <th>students_reached</th>\n",
       "      <th>poverty_level</th>\n",
       "      <th>grade_level</th>\n",
       "      <th>total_price_excluding_optional_support</th>\n",
       "      <th>school_state_La</th>\n",
       "      <th>teacher_prefix_Mr. &amp; Mrs.</th>\n",
       "    </tr>\n",
       "  </thead>\n",
       "  <tbody>\n",
       "    <tr>\n",
       "      <th>2410</th>\n",
       "      <td>0</td>\n",
       "      <td>0</td>\n",
       "      <td>0</td>\n",
       "      <td>0</td>\n",
       "      <td>0</td>\n",
       "      <td>0</td>\n",
       "      <td>0.0</td>\n",
       "      <td>0.0</td>\n",
       "      <td>0.0</td>\n",
       "      <td>0.0</td>\n",
       "      <td>0.0</td>\n",
       "      <td>0.0</td>\n",
       "      <td>0.0</td>\n",
       "      <td>0.0</td>\n",
       "      <td>0.0</td>\n",
       "      <td>0.0</td>\n",
       "      <td>0.0</td>\n",
       "      <td>0.0</td>\n",
       "      <td>0.0</td>\n",
       "      <td>0.0</td>\n",
       "      <td>0.0</td>\n",
       "      <td>0.0</td>\n",
       "      <td>0.0</td>\n",
       "      <td>0.0</td>\n",
       "      <td>0.0</td>\n",
       "      <td>0.0</td>\n",
       "      <td>0.0</td>\n",
       "      <td>0.0</td>\n",
       "      <td>0.0</td>\n",
       "      <td>0.0</td>\n",
       "      <td>0.0</td>\n",
       "      <td>0.0</td>\n",
       "      <td>0.0</td>\n",
       "      <td>0.0</td>\n",
       "      <td>0.0</td>\n",
       "      <td>0.0</td>\n",
       "      <td>0.0</td>\n",
       "      <td>0.0</td>\n",
       "      <td>0.0</td>\n",
       "      <td>0.0</td>\n",
       "      <td>0.0</td>\n",
       "      <td>0.0</td>\n",
       "      <td>0.0</td>\n",
       "      <td>0.0</td>\n",
       "      <td>0.0</td>\n",
       "      <td>0.0</td>\n",
       "      <td>0.0</td>\n",
       "      <td>0.0</td>\n",
       "      <td>0.0</td>\n",
       "      <td>0.0</td>\n",
       "      <td>1.0</td>\n",
       "      <td>0.0</td>\n",
       "      <td>0.0</td>\n",
       "      <td>0.0</td>\n",
       "      <td>0.0</td>\n",
       "      <td>0.0</td>\n",
       "      <td>0.0</td>\n",
       "      <td>0.0</td>\n",
       "      <td>1.0</td>\n",
       "      <td>0.0</td>\n",
       "      <td>0.0</td>\n",
       "      <td>0.0</td>\n",
       "      <td>0.0</td>\n",
       "      <td>0.0</td>\n",
       "      <td>1.0</td>\n",
       "      <td>0.0</td>\n",
       "      <td>0.0</td>\n",
       "      <td>0.0</td>\n",
       "      <td>0.0</td>\n",
       "      <td>0.0</td>\n",
       "      <td>0.0</td>\n",
       "      <td>0.0</td>\n",
       "      <td>0.0</td>\n",
       "      <td>0.0</td>\n",
       "      <td>0.0</td>\n",
       "      <td>0.0</td>\n",
       "      <td>0.0</td>\n",
       "      <td>0.0</td>\n",
       "      <td>0.0</td>\n",
       "      <td>0.0</td>\n",
       "      <td>0.0</td>\n",
       "      <td>0.0</td>\n",
       "      <td>0.0</td>\n",
       "      <td>0.0</td>\n",
       "      <td>0.0</td>\n",
       "      <td>0.0</td>\n",
       "      <td>0.0</td>\n",
       "      <td>0.0</td>\n",
       "      <td>0.0</td>\n",
       "      <td>1.0</td>\n",
       "      <td>0.0</td>\n",
       "      <td>0.0</td>\n",
       "      <td>0.0</td>\n",
       "      <td>0.0</td>\n",
       "      <td>0.0</td>\n",
       "      <td>0.0</td>\n",
       "      <td>0.0</td>\n",
       "      <td>0.0</td>\n",
       "      <td>0.0</td>\n",
       "      <td>0.0</td>\n",
       "      <td>0.0</td>\n",
       "      <td>0.0</td>\n",
       "      <td>0.0</td>\n",
       "      <td>0.0</td>\n",
       "      <td>0.0</td>\n",
       "      <td>0.0</td>\n",
       "      <td>0.0</td>\n",
       "      <td>0.0</td>\n",
       "      <td>0.0</td>\n",
       "      <td>0.0</td>\n",
       "      <td>1.0</td>\n",
       "      <td>0.0</td>\n",
       "      <td>0.0</td>\n",
       "      <td>0.0</td>\n",
       "      <td>0.0</td>\n",
       "      <td>0.0</td>\n",
       "      <td>0.0</td>\n",
       "      <td>0.0</td>\n",
       "      <td>0.0</td>\n",
       "      <td>0.0</td>\n",
       "      <td>0.0</td>\n",
       "      <td>0.0</td>\n",
       "      <td>0.0</td>\n",
       "      <td>0.0</td>\n",
       "      <td>0.0</td>\n",
       "      <td>1.0</td>\n",
       "      <td>0.0</td>\n",
       "      <td>0.0</td>\n",
       "      <td>0.0</td>\n",
       "      <td>0.0</td>\n",
       "      <td>0.0</td>\n",
       "      <td>1.0</td>\n",
       "      <td>0.0</td>\n",
       "      <td>0.0</td>\n",
       "      <td>0.0</td>\n",
       "      <td>1.0</td>\n",
       "      <td>0.0</td>\n",
       "      <td>0.0</td>\n",
       "      <td>0.0</td>\n",
       "      <td>False</td>\n",
       "      <td>11.0</td>\n",
       "      <td>3.0</td>\n",
       "      <td>3.0</td>\n",
       "      <td>476.49</td>\n",
       "      <td>0</td>\n",
       "      <td>0</td>\n",
       "    </tr>\n",
       "    <tr>\n",
       "      <th>2411</th>\n",
       "      <td>0</td>\n",
       "      <td>0</td>\n",
       "      <td>0</td>\n",
       "      <td>0</td>\n",
       "      <td>0</td>\n",
       "      <td>0</td>\n",
       "      <td>0.0</td>\n",
       "      <td>0.0</td>\n",
       "      <td>0.0</td>\n",
       "      <td>0.0</td>\n",
       "      <td>0.0</td>\n",
       "      <td>0.0</td>\n",
       "      <td>0.0</td>\n",
       "      <td>0.0</td>\n",
       "      <td>0.0</td>\n",
       "      <td>0.0</td>\n",
       "      <td>0.0</td>\n",
       "      <td>0.0</td>\n",
       "      <td>0.0</td>\n",
       "      <td>0.0</td>\n",
       "      <td>0.0</td>\n",
       "      <td>0.0</td>\n",
       "      <td>0.0</td>\n",
       "      <td>0.0</td>\n",
       "      <td>0.0</td>\n",
       "      <td>0.0</td>\n",
       "      <td>0.0</td>\n",
       "      <td>0.0</td>\n",
       "      <td>0.0</td>\n",
       "      <td>0.0</td>\n",
       "      <td>0.0</td>\n",
       "      <td>0.0</td>\n",
       "      <td>0.0</td>\n",
       "      <td>0.0</td>\n",
       "      <td>0.0</td>\n",
       "      <td>0.0</td>\n",
       "      <td>0.0</td>\n",
       "      <td>0.0</td>\n",
       "      <td>0.0</td>\n",
       "      <td>0.0</td>\n",
       "      <td>0.0</td>\n",
       "      <td>0.0</td>\n",
       "      <td>0.0</td>\n",
       "      <td>0.0</td>\n",
       "      <td>0.0</td>\n",
       "      <td>0.0</td>\n",
       "      <td>0.0</td>\n",
       "      <td>0.0</td>\n",
       "      <td>0.0</td>\n",
       "      <td>0.0</td>\n",
       "      <td>0.0</td>\n",
       "      <td>1.0</td>\n",
       "      <td>0.0</td>\n",
       "      <td>0.0</td>\n",
       "      <td>0.0</td>\n",
       "      <td>0.0</td>\n",
       "      <td>0.0</td>\n",
       "      <td>0.0</td>\n",
       "      <td>0.0</td>\n",
       "      <td>1.0</td>\n",
       "      <td>0.0</td>\n",
       "      <td>0.0</td>\n",
       "      <td>0.0</td>\n",
       "      <td>1.0</td>\n",
       "      <td>0.0</td>\n",
       "      <td>0.0</td>\n",
       "      <td>0.0</td>\n",
       "      <td>0.0</td>\n",
       "      <td>0.0</td>\n",
       "      <td>0.0</td>\n",
       "      <td>0.0</td>\n",
       "      <td>0.0</td>\n",
       "      <td>0.0</td>\n",
       "      <td>0.0</td>\n",
       "      <td>0.0</td>\n",
       "      <td>0.0</td>\n",
       "      <td>0.0</td>\n",
       "      <td>0.0</td>\n",
       "      <td>0.0</td>\n",
       "      <td>0.0</td>\n",
       "      <td>0.0</td>\n",
       "      <td>0.0</td>\n",
       "      <td>0.0</td>\n",
       "      <td>0.0</td>\n",
       "      <td>0.0</td>\n",
       "      <td>0.0</td>\n",
       "      <td>0.0</td>\n",
       "      <td>0.0</td>\n",
       "      <td>0.0</td>\n",
       "      <td>1.0</td>\n",
       "      <td>0.0</td>\n",
       "      <td>0.0</td>\n",
       "      <td>0.0</td>\n",
       "      <td>0.0</td>\n",
       "      <td>0.0</td>\n",
       "      <td>0.0</td>\n",
       "      <td>0.0</td>\n",
       "      <td>0.0</td>\n",
       "      <td>0.0</td>\n",
       "      <td>0.0</td>\n",
       "      <td>0.0</td>\n",
       "      <td>0.0</td>\n",
       "      <td>0.0</td>\n",
       "      <td>0.0</td>\n",
       "      <td>0.0</td>\n",
       "      <td>0.0</td>\n",
       "      <td>0.0</td>\n",
       "      <td>1.0</td>\n",
       "      <td>0.0</td>\n",
       "      <td>0.0</td>\n",
       "      <td>0.0</td>\n",
       "      <td>0.0</td>\n",
       "      <td>0.0</td>\n",
       "      <td>0.0</td>\n",
       "      <td>0.0</td>\n",
       "      <td>0.0</td>\n",
       "      <td>0.0</td>\n",
       "      <td>0.0</td>\n",
       "      <td>0.0</td>\n",
       "      <td>0.0</td>\n",
       "      <td>0.0</td>\n",
       "      <td>0.0</td>\n",
       "      <td>0.0</td>\n",
       "      <td>0.0</td>\n",
       "      <td>0.0</td>\n",
       "      <td>1.0</td>\n",
       "      <td>0.0</td>\n",
       "      <td>0.0</td>\n",
       "      <td>0.0</td>\n",
       "      <td>1.0</td>\n",
       "      <td>0.0</td>\n",
       "      <td>0.0</td>\n",
       "      <td>0.0</td>\n",
       "      <td>0.0</td>\n",
       "      <td>0.0</td>\n",
       "      <td>0.0</td>\n",
       "      <td>1.0</td>\n",
       "      <td>0.0</td>\n",
       "      <td>0.0</td>\n",
       "      <td>False</td>\n",
       "      <td>11.0</td>\n",
       "      <td>4.0</td>\n",
       "      <td>1.0</td>\n",
       "      <td>627.33</td>\n",
       "      <td>0</td>\n",
       "      <td>0</td>\n",
       "    </tr>\n",
       "    <tr>\n",
       "      <th>2412</th>\n",
       "      <td>0</td>\n",
       "      <td>0</td>\n",
       "      <td>0</td>\n",
       "      <td>0</td>\n",
       "      <td>0</td>\n",
       "      <td>0</td>\n",
       "      <td>0.0</td>\n",
       "      <td>0.0</td>\n",
       "      <td>0.0</td>\n",
       "      <td>0.0</td>\n",
       "      <td>0.0</td>\n",
       "      <td>0.0</td>\n",
       "      <td>1.0</td>\n",
       "      <td>0.0</td>\n",
       "      <td>0.0</td>\n",
       "      <td>0.0</td>\n",
       "      <td>0.0</td>\n",
       "      <td>0.0</td>\n",
       "      <td>0.0</td>\n",
       "      <td>0.0</td>\n",
       "      <td>0.0</td>\n",
       "      <td>0.0</td>\n",
       "      <td>0.0</td>\n",
       "      <td>0.0</td>\n",
       "      <td>0.0</td>\n",
       "      <td>0.0</td>\n",
       "      <td>0.0</td>\n",
       "      <td>0.0</td>\n",
       "      <td>0.0</td>\n",
       "      <td>0.0</td>\n",
       "      <td>0.0</td>\n",
       "      <td>0.0</td>\n",
       "      <td>0.0</td>\n",
       "      <td>0.0</td>\n",
       "      <td>0.0</td>\n",
       "      <td>0.0</td>\n",
       "      <td>0.0</td>\n",
       "      <td>0.0</td>\n",
       "      <td>0.0</td>\n",
       "      <td>0.0</td>\n",
       "      <td>0.0</td>\n",
       "      <td>0.0</td>\n",
       "      <td>0.0</td>\n",
       "      <td>0.0</td>\n",
       "      <td>0.0</td>\n",
       "      <td>0.0</td>\n",
       "      <td>0.0</td>\n",
       "      <td>0.0</td>\n",
       "      <td>0.0</td>\n",
       "      <td>0.0</td>\n",
       "      <td>0.0</td>\n",
       "      <td>0.0</td>\n",
       "      <td>0.0</td>\n",
       "      <td>0.0</td>\n",
       "      <td>0.0</td>\n",
       "      <td>0.0</td>\n",
       "      <td>0.0</td>\n",
       "      <td>1.0</td>\n",
       "      <td>0.0</td>\n",
       "      <td>0.0</td>\n",
       "      <td>0.0</td>\n",
       "      <td>0.0</td>\n",
       "      <td>1.0</td>\n",
       "      <td>0.0</td>\n",
       "      <td>0.0</td>\n",
       "      <td>1.0</td>\n",
       "      <td>0.0</td>\n",
       "      <td>0.0</td>\n",
       "      <td>0.0</td>\n",
       "      <td>0.0</td>\n",
       "      <td>0.0</td>\n",
       "      <td>0.0</td>\n",
       "      <td>0.0</td>\n",
       "      <td>0.0</td>\n",
       "      <td>0.0</td>\n",
       "      <td>0.0</td>\n",
       "      <td>0.0</td>\n",
       "      <td>0.0</td>\n",
       "      <td>0.0</td>\n",
       "      <td>0.0</td>\n",
       "      <td>0.0</td>\n",
       "      <td>0.0</td>\n",
       "      <td>0.0</td>\n",
       "      <td>0.0</td>\n",
       "      <td>0.0</td>\n",
       "      <td>0.0</td>\n",
       "      <td>0.0</td>\n",
       "      <td>0.0</td>\n",
       "      <td>0.0</td>\n",
       "      <td>0.0</td>\n",
       "      <td>0.0</td>\n",
       "      <td>0.0</td>\n",
       "      <td>0.0</td>\n",
       "      <td>0.0</td>\n",
       "      <td>0.0</td>\n",
       "      <td>1.0</td>\n",
       "      <td>0.0</td>\n",
       "      <td>0.0</td>\n",
       "      <td>0.0</td>\n",
       "      <td>0.0</td>\n",
       "      <td>0.0</td>\n",
       "      <td>0.0</td>\n",
       "      <td>0.0</td>\n",
       "      <td>0.0</td>\n",
       "      <td>0.0</td>\n",
       "      <td>0.0</td>\n",
       "      <td>0.0</td>\n",
       "      <td>0.0</td>\n",
       "      <td>0.0</td>\n",
       "      <td>0.0</td>\n",
       "      <td>0.0</td>\n",
       "      <td>0.0</td>\n",
       "      <td>0.0</td>\n",
       "      <td>0.0</td>\n",
       "      <td>0.0</td>\n",
       "      <td>0.0</td>\n",
       "      <td>0.0</td>\n",
       "      <td>0.0</td>\n",
       "      <td>0.0</td>\n",
       "      <td>0.0</td>\n",
       "      <td>0.0</td>\n",
       "      <td>0.0</td>\n",
       "      <td>0.0</td>\n",
       "      <td>1.0</td>\n",
       "      <td>0.0</td>\n",
       "      <td>0.0</td>\n",
       "      <td>1.0</td>\n",
       "      <td>0.0</td>\n",
       "      <td>0.0</td>\n",
       "      <td>0.0</td>\n",
       "      <td>0.0</td>\n",
       "      <td>0.0</td>\n",
       "      <td>0.0</td>\n",
       "      <td>0.0</td>\n",
       "      <td>0.0</td>\n",
       "      <td>0.0</td>\n",
       "      <td>1.0</td>\n",
       "      <td>0.0</td>\n",
       "      <td>0.0</td>\n",
       "      <td>False</td>\n",
       "      <td>24.0</td>\n",
       "      <td>2.0</td>\n",
       "      <td>4.0</td>\n",
       "      <td>2085.00</td>\n",
       "      <td>0</td>\n",
       "      <td>0</td>\n",
       "    </tr>\n",
       "    <tr>\n",
       "      <th>2413</th>\n",
       "      <td>0</td>\n",
       "      <td>0</td>\n",
       "      <td>0</td>\n",
       "      <td>0</td>\n",
       "      <td>0</td>\n",
       "      <td>0</td>\n",
       "      <td>0.0</td>\n",
       "      <td>0.0</td>\n",
       "      <td>0.0</td>\n",
       "      <td>0.0</td>\n",
       "      <td>0.0</td>\n",
       "      <td>0.0</td>\n",
       "      <td>0.0</td>\n",
       "      <td>0.0</td>\n",
       "      <td>0.0</td>\n",
       "      <td>0.0</td>\n",
       "      <td>0.0</td>\n",
       "      <td>0.0</td>\n",
       "      <td>0.0</td>\n",
       "      <td>0.0</td>\n",
       "      <td>0.0</td>\n",
       "      <td>0.0</td>\n",
       "      <td>0.0</td>\n",
       "      <td>0.0</td>\n",
       "      <td>0.0</td>\n",
       "      <td>0.0</td>\n",
       "      <td>0.0</td>\n",
       "      <td>0.0</td>\n",
       "      <td>0.0</td>\n",
       "      <td>0.0</td>\n",
       "      <td>0.0</td>\n",
       "      <td>0.0</td>\n",
       "      <td>0.0</td>\n",
       "      <td>0.0</td>\n",
       "      <td>0.0</td>\n",
       "      <td>0.0</td>\n",
       "      <td>0.0</td>\n",
       "      <td>0.0</td>\n",
       "      <td>0.0</td>\n",
       "      <td>0.0</td>\n",
       "      <td>0.0</td>\n",
       "      <td>0.0</td>\n",
       "      <td>0.0</td>\n",
       "      <td>0.0</td>\n",
       "      <td>0.0</td>\n",
       "      <td>0.0</td>\n",
       "      <td>0.0</td>\n",
       "      <td>0.0</td>\n",
       "      <td>0.0</td>\n",
       "      <td>0.0</td>\n",
       "      <td>0.0</td>\n",
       "      <td>0.0</td>\n",
       "      <td>0.0</td>\n",
       "      <td>0.0</td>\n",
       "      <td>1.0</td>\n",
       "      <td>0.0</td>\n",
       "      <td>0.0</td>\n",
       "      <td>0.0</td>\n",
       "      <td>0.0</td>\n",
       "      <td>0.0</td>\n",
       "      <td>0.0</td>\n",
       "      <td>0.0</td>\n",
       "      <td>0.0</td>\n",
       "      <td>1.0</td>\n",
       "      <td>0.0</td>\n",
       "      <td>0.0</td>\n",
       "      <td>0.0</td>\n",
       "      <td>0.0</td>\n",
       "      <td>0.0</td>\n",
       "      <td>0.0</td>\n",
       "      <td>0.0</td>\n",
       "      <td>0.0</td>\n",
       "      <td>0.0</td>\n",
       "      <td>0.0</td>\n",
       "      <td>0.0</td>\n",
       "      <td>0.0</td>\n",
       "      <td>0.0</td>\n",
       "      <td>0.0</td>\n",
       "      <td>0.0</td>\n",
       "      <td>0.0</td>\n",
       "      <td>1.0</td>\n",
       "      <td>0.0</td>\n",
       "      <td>0.0</td>\n",
       "      <td>0.0</td>\n",
       "      <td>0.0</td>\n",
       "      <td>0.0</td>\n",
       "      <td>0.0</td>\n",
       "      <td>0.0</td>\n",
       "      <td>0.0</td>\n",
       "      <td>0.0</td>\n",
       "      <td>0.0</td>\n",
       "      <td>0.0</td>\n",
       "      <td>0.0</td>\n",
       "      <td>0.0</td>\n",
       "      <td>0.0</td>\n",
       "      <td>0.0</td>\n",
       "      <td>0.0</td>\n",
       "      <td>0.0</td>\n",
       "      <td>0.0</td>\n",
       "      <td>0.0</td>\n",
       "      <td>0.0</td>\n",
       "      <td>0.0</td>\n",
       "      <td>0.0</td>\n",
       "      <td>0.0</td>\n",
       "      <td>0.0</td>\n",
       "      <td>0.0</td>\n",
       "      <td>0.0</td>\n",
       "      <td>0.0</td>\n",
       "      <td>0.0</td>\n",
       "      <td>0.0</td>\n",
       "      <td>0.0</td>\n",
       "      <td>0.0</td>\n",
       "      <td>0.0</td>\n",
       "      <td>0.0</td>\n",
       "      <td>0.0</td>\n",
       "      <td>0.0</td>\n",
       "      <td>0.0</td>\n",
       "      <td>0.0</td>\n",
       "      <td>0.0</td>\n",
       "      <td>0.0</td>\n",
       "      <td>0.0</td>\n",
       "      <td>0.0</td>\n",
       "      <td>1.0</td>\n",
       "      <td>0.0</td>\n",
       "      <td>0.0</td>\n",
       "      <td>0.0</td>\n",
       "      <td>0.0</td>\n",
       "      <td>0.0</td>\n",
       "      <td>0.0</td>\n",
       "      <td>0.0</td>\n",
       "      <td>0.0</td>\n",
       "      <td>0.0</td>\n",
       "      <td>0.0</td>\n",
       "      <td>1.0</td>\n",
       "      <td>0.0</td>\n",
       "      <td>0.0</td>\n",
       "      <td>0.0</td>\n",
       "      <td>0.0</td>\n",
       "      <td>0.0</td>\n",
       "      <td>False</td>\n",
       "      <td>120.0</td>\n",
       "      <td>2.0</td>\n",
       "      <td>1.0</td>\n",
       "      <td>899.13</td>\n",
       "      <td>0</td>\n",
       "      <td>0</td>\n",
       "    </tr>\n",
       "    <tr>\n",
       "      <th>2414</th>\n",
       "      <td>0</td>\n",
       "      <td>0</td>\n",
       "      <td>0</td>\n",
       "      <td>0</td>\n",
       "      <td>0</td>\n",
       "      <td>0</td>\n",
       "      <td>0.0</td>\n",
       "      <td>0.0</td>\n",
       "      <td>0.0</td>\n",
       "      <td>0.0</td>\n",
       "      <td>0.0</td>\n",
       "      <td>0.0</td>\n",
       "      <td>0.0</td>\n",
       "      <td>0.0</td>\n",
       "      <td>0.0</td>\n",
       "      <td>0.0</td>\n",
       "      <td>0.0</td>\n",
       "      <td>0.0</td>\n",
       "      <td>0.0</td>\n",
       "      <td>0.0</td>\n",
       "      <td>0.0</td>\n",
       "      <td>0.0</td>\n",
       "      <td>0.0</td>\n",
       "      <td>1.0</td>\n",
       "      <td>0.0</td>\n",
       "      <td>0.0</td>\n",
       "      <td>0.0</td>\n",
       "      <td>0.0</td>\n",
       "      <td>0.0</td>\n",
       "      <td>0.0</td>\n",
       "      <td>0.0</td>\n",
       "      <td>0.0</td>\n",
       "      <td>0.0</td>\n",
       "      <td>0.0</td>\n",
       "      <td>0.0</td>\n",
       "      <td>0.0</td>\n",
       "      <td>0.0</td>\n",
       "      <td>0.0</td>\n",
       "      <td>0.0</td>\n",
       "      <td>0.0</td>\n",
       "      <td>0.0</td>\n",
       "      <td>0.0</td>\n",
       "      <td>0.0</td>\n",
       "      <td>0.0</td>\n",
       "      <td>0.0</td>\n",
       "      <td>0.0</td>\n",
       "      <td>0.0</td>\n",
       "      <td>0.0</td>\n",
       "      <td>0.0</td>\n",
       "      <td>0.0</td>\n",
       "      <td>0.0</td>\n",
       "      <td>0.0</td>\n",
       "      <td>0.0</td>\n",
       "      <td>0.0</td>\n",
       "      <td>0.0</td>\n",
       "      <td>0.0</td>\n",
       "      <td>0.0</td>\n",
       "      <td>1.0</td>\n",
       "      <td>0.0</td>\n",
       "      <td>0.0</td>\n",
       "      <td>0.0</td>\n",
       "      <td>0.0</td>\n",
       "      <td>0.0</td>\n",
       "      <td>1.0</td>\n",
       "      <td>0.0</td>\n",
       "      <td>0.0</td>\n",
       "      <td>0.0</td>\n",
       "      <td>0.0</td>\n",
       "      <td>0.0</td>\n",
       "      <td>0.0</td>\n",
       "      <td>0.0</td>\n",
       "      <td>0.0</td>\n",
       "      <td>0.0</td>\n",
       "      <td>0.0</td>\n",
       "      <td>0.0</td>\n",
       "      <td>0.0</td>\n",
       "      <td>0.0</td>\n",
       "      <td>0.0</td>\n",
       "      <td>0.0</td>\n",
       "      <td>0.0</td>\n",
       "      <td>0.0</td>\n",
       "      <td>0.0</td>\n",
       "      <td>1.0</td>\n",
       "      <td>0.0</td>\n",
       "      <td>0.0</td>\n",
       "      <td>0.0</td>\n",
       "      <td>0.0</td>\n",
       "      <td>0.0</td>\n",
       "      <td>0.0</td>\n",
       "      <td>0.0</td>\n",
       "      <td>0.0</td>\n",
       "      <td>0.0</td>\n",
       "      <td>0.0</td>\n",
       "      <td>0.0</td>\n",
       "      <td>0.0</td>\n",
       "      <td>0.0</td>\n",
       "      <td>0.0</td>\n",
       "      <td>0.0</td>\n",
       "      <td>0.0</td>\n",
       "      <td>0.0</td>\n",
       "      <td>0.0</td>\n",
       "      <td>0.0</td>\n",
       "      <td>0.0</td>\n",
       "      <td>0.0</td>\n",
       "      <td>0.0</td>\n",
       "      <td>0.0</td>\n",
       "      <td>0.0</td>\n",
       "      <td>0.0</td>\n",
       "      <td>0.0</td>\n",
       "      <td>0.0</td>\n",
       "      <td>0.0</td>\n",
       "      <td>0.0</td>\n",
       "      <td>0.0</td>\n",
       "      <td>0.0</td>\n",
       "      <td>0.0</td>\n",
       "      <td>0.0</td>\n",
       "      <td>0.0</td>\n",
       "      <td>0.0</td>\n",
       "      <td>0.0</td>\n",
       "      <td>0.0</td>\n",
       "      <td>0.0</td>\n",
       "      <td>0.0</td>\n",
       "      <td>0.0</td>\n",
       "      <td>1.0</td>\n",
       "      <td>0.0</td>\n",
       "      <td>0.0</td>\n",
       "      <td>0.0</td>\n",
       "      <td>0.0</td>\n",
       "      <td>0.0</td>\n",
       "      <td>0.0</td>\n",
       "      <td>0.0</td>\n",
       "      <td>0.0</td>\n",
       "      <td>0.0</td>\n",
       "      <td>0.0</td>\n",
       "      <td>0.0</td>\n",
       "      <td>0.0</td>\n",
       "      <td>1.0</td>\n",
       "      <td>0.0</td>\n",
       "      <td>0.0</td>\n",
       "      <td>False</td>\n",
       "      <td>23.0</td>\n",
       "      <td>4.0</td>\n",
       "      <td>1.0</td>\n",
       "      <td>1697.90</td>\n",
       "      <td>0</td>\n",
       "      <td>0</td>\n",
       "    </tr>\n",
       "  </tbody>\n",
       "</table>\n",
       "</div>"
      ],
      "text/plain": [
       "      school_charter  school_magnet  school_year_round  school_nlns  \\\n",
       "2410               0              0                  0            0   \n",
       "2411               0              0                  0            0   \n",
       "2412               0              0                  0            0   \n",
       "2413               0              0                  0            0   \n",
       "2414               0              0                  0            0   \n",
       "\n",
       "      school_kipp  school_charter_ready_promise  school_state_AK  \\\n",
       "2410            0                             0              0.0   \n",
       "2411            0                             0              0.0   \n",
       "2412            0                             0              0.0   \n",
       "2413            0                             0              0.0   \n",
       "2414            0                             0              0.0   \n",
       "\n",
       "      school_state_AL  school_state_AR  school_state_AZ  school_state_CA  \\\n",
       "2410              0.0              0.0              0.0              0.0   \n",
       "2411              0.0              0.0              0.0              0.0   \n",
       "2412              0.0              0.0              0.0              0.0   \n",
       "2413              0.0              0.0              0.0              0.0   \n",
       "2414              0.0              0.0              0.0              0.0   \n",
       "\n",
       "      school_state_CO  school_state_CT  school_state_DC  school_state_DE  \\\n",
       "2410              0.0              0.0              0.0              0.0   \n",
       "2411              0.0              0.0              0.0              0.0   \n",
       "2412              0.0              1.0              0.0              0.0   \n",
       "2413              0.0              0.0              0.0              0.0   \n",
       "2414              0.0              0.0              0.0              0.0   \n",
       "\n",
       "      school_state_FL  school_state_GA  school_state_HI  school_state_IA  \\\n",
       "2410              0.0              0.0              0.0              0.0   \n",
       "2411              0.0              0.0              0.0              0.0   \n",
       "2412              0.0              0.0              0.0              0.0   \n",
       "2413              0.0              0.0              0.0              0.0   \n",
       "2414              0.0              0.0              0.0              0.0   \n",
       "\n",
       "      school_state_ID  school_state_IL  school_state_IN  school_state_KS  \\\n",
       "2410              0.0              0.0              0.0              0.0   \n",
       "2411              0.0              0.0              0.0              0.0   \n",
       "2412              0.0              0.0              0.0              0.0   \n",
       "2413              0.0              0.0              0.0              0.0   \n",
       "2414              0.0              0.0              0.0              0.0   \n",
       "\n",
       "      school_state_KY  school_state_LA  school_state_MA  school_state_MD  \\\n",
       "2410              0.0              0.0              0.0              0.0   \n",
       "2411              0.0              0.0              0.0              0.0   \n",
       "2412              0.0              0.0              0.0              0.0   \n",
       "2413              0.0              0.0              0.0              0.0   \n",
       "2414              1.0              0.0              0.0              0.0   \n",
       "\n",
       "      school_state_ME  school_state_MI  school_state_MN  school_state_MO  \\\n",
       "2410              0.0              0.0              0.0              0.0   \n",
       "2411              0.0              0.0              0.0              0.0   \n",
       "2412              0.0              0.0              0.0              0.0   \n",
       "2413              0.0              0.0              0.0              0.0   \n",
       "2414              0.0              0.0              0.0              0.0   \n",
       "\n",
       "      school_state_MS  school_state_MT  school_state_NC  school_state_ND  \\\n",
       "2410              0.0              0.0              0.0              0.0   \n",
       "2411              0.0              0.0              0.0              0.0   \n",
       "2412              0.0              0.0              0.0              0.0   \n",
       "2413              0.0              0.0              0.0              0.0   \n",
       "2414              0.0              0.0              0.0              0.0   \n",
       "\n",
       "      school_state_NE  school_state_NH  school_state_NJ  school_state_NM  \\\n",
       "2410              0.0              0.0              0.0              0.0   \n",
       "2411              0.0              0.0              0.0              0.0   \n",
       "2412              0.0              0.0              0.0              0.0   \n",
       "2413              0.0              0.0              0.0              0.0   \n",
       "2414              0.0              0.0              0.0              0.0   \n",
       "\n",
       "      school_state_NV  school_state_NY  school_state_OH  school_state_OK  \\\n",
       "2410              0.0              0.0              0.0              0.0   \n",
       "2411              0.0              0.0              0.0              0.0   \n",
       "2412              0.0              0.0              0.0              0.0   \n",
       "2413              0.0              0.0              0.0              0.0   \n",
       "2414              0.0              0.0              0.0              0.0   \n",
       "\n",
       "      school_state_OR  school_state_PA  school_state_RI  school_state_SC  \\\n",
       "2410              0.0              0.0              0.0              0.0   \n",
       "2411              0.0              0.0              0.0              0.0   \n",
       "2412              0.0              0.0              0.0              0.0   \n",
       "2413              0.0              0.0              0.0              0.0   \n",
       "2414              0.0              0.0              0.0              0.0   \n",
       "\n",
       "      school_state_SD  school_state_TN  school_state_TX  school_state_UT  \\\n",
       "2410              0.0              0.0              0.0              1.0   \n",
       "2411              0.0              0.0              0.0              0.0   \n",
       "2412              0.0              0.0              0.0              0.0   \n",
       "2413              0.0              0.0              0.0              0.0   \n",
       "2414              0.0              0.0              0.0              0.0   \n",
       "\n",
       "      school_state_VA  school_state_VT  school_state_WA  school_state_WI  \\\n",
       "2410              0.0              0.0              0.0              0.0   \n",
       "2411              1.0              0.0              0.0              0.0   \n",
       "2412              0.0              0.0              0.0              0.0   \n",
       "2413              0.0              0.0              0.0              1.0   \n",
       "2414              0.0              0.0              0.0              0.0   \n",
       "\n",
       "      school_state_WV  school_state_WY  school_metro_rural  \\\n",
       "2410              0.0              0.0                 0.0   \n",
       "2411              0.0              0.0                 0.0   \n",
       "2412              0.0              0.0                 1.0   \n",
       "2413              0.0              0.0                 0.0   \n",
       "2414              0.0              0.0                 1.0   \n",
       "\n",
       "      school_metro_suburban  school_metro_urban  teacher_prefix_  \\\n",
       "2410                    1.0                 0.0              0.0   \n",
       "2411                    0.0                 1.0              0.0   \n",
       "2412                    0.0                 0.0              0.0   \n",
       "2413                    0.0                 0.0              0.0   \n",
       "2414                    0.0                 0.0              0.0   \n",
       "\n",
       "      teacher_prefix_Dr.  teacher_prefix_Mr.  teacher_prefix_Mrs.  \\\n",
       "2410                 0.0                 0.0                  0.0   \n",
       "2411                 0.0                 0.0                  1.0   \n",
       "2412                 0.0                 1.0                  0.0   \n",
       "2413                 0.0                 0.0                  1.0   \n",
       "2414                 0.0                 0.0                  1.0   \n",
       "\n",
       "      teacher_prefix_Ms.  primary_focus_subject_Applied Sciences  \\\n",
       "2410                 1.0                                     0.0   \n",
       "2411                 0.0                                     0.0   \n",
       "2412                 0.0                                     1.0   \n",
       "2413                 0.0                                     0.0   \n",
       "2414                 0.0                                     0.0   \n",
       "\n",
       "      primary_focus_subject_Character Education  \\\n",
       "2410                                        0.0   \n",
       "2411                                        0.0   \n",
       "2412                                        0.0   \n",
       "2413                                        0.0   \n",
       "2414                                        0.0   \n",
       "\n",
       "      primary_focus_subject_Civics & Government  \\\n",
       "2410                                        0.0   \n",
       "2411                                        0.0   \n",
       "2412                                        0.0   \n",
       "2413                                        0.0   \n",
       "2414                                        0.0   \n",
       "\n",
       "      primary_focus_subject_College & Career Prep  \\\n",
       "2410                                          0.0   \n",
       "2411                                          0.0   \n",
       "2412                                          0.0   \n",
       "2413                                          0.0   \n",
       "2414                                          0.0   \n",
       "\n",
       "      primary_focus_subject_Community Service  primary_focus_subject_ESL  \\\n",
       "2410                                      0.0                        0.0   \n",
       "2411                                      0.0                        0.0   \n",
       "2412                                      0.0                        0.0   \n",
       "2413                                      0.0                        0.0   \n",
       "2414                                      0.0                        0.0   \n",
       "\n",
       "      primary_focus_subject_Early Development  \\\n",
       "2410                                      0.0   \n",
       "2411                                      0.0   \n",
       "2412                                      0.0   \n",
       "2413                                      0.0   \n",
       "2414                                      0.0   \n",
       "\n",
       "      primary_focus_subject_Economics  \\\n",
       "2410                              0.0   \n",
       "2411                              0.0   \n",
       "2412                              0.0   \n",
       "2413                              0.0   \n",
       "2414                              0.0   \n",
       "\n",
       "      primary_focus_subject_Environmental Science  \\\n",
       "2410                                          0.0   \n",
       "2411                                          0.0   \n",
       "2412                                          0.0   \n",
       "2413                                          0.0   \n",
       "2414                                          0.0   \n",
       "\n",
       "      primary_focus_subject_Extracurricular  \\\n",
       "2410                                    0.0   \n",
       "2411                                    0.0   \n",
       "2412                                    0.0   \n",
       "2413                                    0.0   \n",
       "2414                                    0.0   \n",
       "\n",
       "      primary_focus_subject_Foreign Languages  \\\n",
       "2410                                      0.0   \n",
       "2411                                      0.0   \n",
       "2412                                      0.0   \n",
       "2413                                      0.0   \n",
       "2414                                      0.0   \n",
       "\n",
       "      primary_focus_subject_Gym & Fitness  \\\n",
       "2410                                  0.0   \n",
       "2411                                  0.0   \n",
       "2412                                  0.0   \n",
       "2413                                  0.0   \n",
       "2414                                  0.0   \n",
       "\n",
       "      primary_focus_subject_Health & Life Science  \\\n",
       "2410                                          0.0   \n",
       "2411                                          0.0   \n",
       "2412                                          0.0   \n",
       "2413                                          0.0   \n",
       "2414                                          0.0   \n",
       "\n",
       "      primary_focus_subject_Health & Wellness  \\\n",
       "2410                                      0.0   \n",
       "2411                                      0.0   \n",
       "2412                                      0.0   \n",
       "2413                                      0.0   \n",
       "2414                                      0.0   \n",
       "\n",
       "      primary_focus_subject_History & Geography  \\\n",
       "2410                                        0.0   \n",
       "2411                                        0.0   \n",
       "2412                                        0.0   \n",
       "2413                                        0.0   \n",
       "2414                                        0.0   \n",
       "\n",
       "      primary_focus_subject_Literacy  \\\n",
       "2410                             0.0   \n",
       "2411                             0.0   \n",
       "2412                             0.0   \n",
       "2413                             1.0   \n",
       "2414                             0.0   \n",
       "\n",
       "      primary_focus_subject_Literature & Writing  \\\n",
       "2410                                         0.0   \n",
       "2411                                         0.0   \n",
       "2412                                         0.0   \n",
       "2413                                         0.0   \n",
       "2414                                         0.0   \n",
       "\n",
       "      primary_focus_subject_Mathematics  primary_focus_subject_Music  \\\n",
       "2410                                0.0                          0.0   \n",
       "2411                                0.0                          0.0   \n",
       "2412                                0.0                          0.0   \n",
       "2413                                0.0                          0.0   \n",
       "2414                                1.0                          0.0   \n",
       "\n",
       "      primary_focus_subject_Nutrition  primary_focus_subject_Other  \\\n",
       "2410                              0.0                          0.0   \n",
       "2411                              0.0                          0.0   \n",
       "2412                              0.0                          0.0   \n",
       "2413                              0.0                          0.0   \n",
       "2414                              0.0                          0.0   \n",
       "\n",
       "      primary_focus_subject_Parent Involvement  \\\n",
       "2410                                       0.0   \n",
       "2411                                       0.0   \n",
       "2412                                       0.0   \n",
       "2413                                       0.0   \n",
       "2414                                       0.0   \n",
       "\n",
       "      primary_focus_subject_Performing Arts  \\\n",
       "2410                                    0.0   \n",
       "2411                                    0.0   \n",
       "2412                                    0.0   \n",
       "2413                                    0.0   \n",
       "2414                                    0.0   \n",
       "\n",
       "      primary_focus_subject_Social Sciences  \\\n",
       "2410                                    0.0   \n",
       "2411                                    0.0   \n",
       "2412                                    0.0   \n",
       "2413                                    0.0   \n",
       "2414                                    0.0   \n",
       "\n",
       "      primary_focus_subject_Special Needs  primary_focus_subject_Sports  \\\n",
       "2410                                  1.0                           0.0   \n",
       "2411                                  1.0                           0.0   \n",
       "2412                                  0.0                           0.0   \n",
       "2413                                  0.0                           0.0   \n",
       "2414                                  0.0                           0.0   \n",
       "\n",
       "      primary_focus_subject_Visual Arts  \\\n",
       "2410                                0.0   \n",
       "2411                                0.0   \n",
       "2412                                0.0   \n",
       "2413                                0.0   \n",
       "2414                                0.0   \n",
       "\n",
       "      secondary_focus_subject_Applied Sciences  \\\n",
       "2410                                       0.0   \n",
       "2411                                       0.0   \n",
       "2412                                       0.0   \n",
       "2413                                       0.0   \n",
       "2414                                       0.0   \n",
       "\n",
       "      secondary_focus_subject_Character Education  \\\n",
       "2410                                          0.0   \n",
       "2411                                          0.0   \n",
       "2412                                          0.0   \n",
       "2413                                          0.0   \n",
       "2414                                          0.0   \n",
       "\n",
       "      secondary_focus_subject_Civics & Government  \\\n",
       "2410                                          0.0   \n",
       "2411                                          0.0   \n",
       "2412                                          0.0   \n",
       "2413                                          0.0   \n",
       "2414                                          0.0   \n",
       "\n",
       "      secondary_focus_subject_College & Career Prep  \\\n",
       "2410                                            0.0   \n",
       "2411                                            0.0   \n",
       "2412                                            1.0   \n",
       "2413                                            0.0   \n",
       "2414                                            0.0   \n",
       "\n",
       "      secondary_focus_subject_Community Service  secondary_focus_subject_ESL  \\\n",
       "2410                                        0.0                          0.0   \n",
       "2411                                        0.0                          0.0   \n",
       "2412                                        0.0                          0.0   \n",
       "2413                                        0.0                          0.0   \n",
       "2414                                        0.0                          0.0   \n",
       "\n",
       "      secondary_focus_subject_Early Development  \\\n",
       "2410                                        0.0   \n",
       "2411                                        0.0   \n",
       "2412                                        0.0   \n",
       "2413                                        0.0   \n",
       "2414                                        0.0   \n",
       "\n",
       "      secondary_focus_subject_Economics  \\\n",
       "2410                                0.0   \n",
       "2411                                0.0   \n",
       "2412                                0.0   \n",
       "2413                                0.0   \n",
       "2414                                0.0   \n",
       "\n",
       "      secondary_focus_subject_Environmental Science  \\\n",
       "2410                                            0.0   \n",
       "2411                                            0.0   \n",
       "2412                                            0.0   \n",
       "2413                                            0.0   \n",
       "2414                                            0.0   \n",
       "\n",
       "      secondary_focus_subject_Extracurricular  \\\n",
       "2410                                      0.0   \n",
       "2411                                      0.0   \n",
       "2412                                      0.0   \n",
       "2413                                      0.0   \n",
       "2414                                      0.0   \n",
       "\n",
       "      secondary_focus_subject_Foreign Languages  \\\n",
       "2410                                        0.0   \n",
       "2411                                        0.0   \n",
       "2412                                        0.0   \n",
       "2413                                        0.0   \n",
       "2414                                        0.0   \n",
       "\n",
       "      secondary_focus_subject_Gym & Fitness  \\\n",
       "2410                                    0.0   \n",
       "2411                                    0.0   \n",
       "2412                                    0.0   \n",
       "2413                                    0.0   \n",
       "2414                                    0.0   \n",
       "\n",
       "      secondary_focus_subject_Health & Life Science  \\\n",
       "2410                                            0.0   \n",
       "2411                                            0.0   \n",
       "2412                                            0.0   \n",
       "2413                                            0.0   \n",
       "2414                                            0.0   \n",
       "\n",
       "      secondary_focus_subject_Health & Wellness  \\\n",
       "2410                                        0.0   \n",
       "2411                                        0.0   \n",
       "2412                                        0.0   \n",
       "2413                                        0.0   \n",
       "2414                                        0.0   \n",
       "\n",
       "      secondary_focus_subject_History & Geography  \\\n",
       "2410                                          0.0   \n",
       "2411                                          0.0   \n",
       "2412                                          0.0   \n",
       "2413                                          0.0   \n",
       "2414                                          0.0   \n",
       "\n",
       "      secondary_focus_subject_Literacy  \\\n",
       "2410                               0.0   \n",
       "2411                               1.0   \n",
       "2412                               0.0   \n",
       "2413                               0.0   \n",
       "2414                               0.0   \n",
       "\n",
       "      secondary_focus_subject_Literature & Writing  \\\n",
       "2410                                           0.0   \n",
       "2411                                           0.0   \n",
       "2412                                           0.0   \n",
       "2413                                           0.0   \n",
       "2414                                           0.0   \n",
       "\n",
       "      secondary_focus_subject_Mathematics  secondary_focus_subject_Music  \\\n",
       "2410                                  0.0                            1.0   \n",
       "2411                                  0.0                            0.0   \n",
       "2412                                  0.0                            0.0   \n",
       "2413                                  0.0                            0.0   \n",
       "2414                                  0.0                            0.0   \n",
       "\n",
       "      secondary_focus_subject_Nutrition  secondary_focus_subject_Other  \\\n",
       "2410                                0.0                            0.0   \n",
       "2411                                0.0                            0.0   \n",
       "2412                                0.0                            0.0   \n",
       "2413                                0.0                            0.0   \n",
       "2414                                0.0                            0.0   \n",
       "\n",
       "      secondary_focus_subject_Parent Involvement  \\\n",
       "2410                                         0.0   \n",
       "2411                                         0.0   \n",
       "2412                                         0.0   \n",
       "2413                                         0.0   \n",
       "2414                                         0.0   \n",
       "\n",
       "      secondary_focus_subject_Performing Arts  \\\n",
       "2410                                      0.0   \n",
       "2411                                      0.0   \n",
       "2412                                      0.0   \n",
       "2413                                      0.0   \n",
       "2414                                      0.0   \n",
       "\n",
       "      secondary_focus_subject_Social Sciences  \\\n",
       "2410                                      0.0   \n",
       "2411                                      0.0   \n",
       "2412                                      0.0   \n",
       "2413                                      0.0   \n",
       "2414                                      0.0   \n",
       "\n",
       "      secondary_focus_subject_Special Needs  secondary_focus_subject_Sports  \\\n",
       "2410                                    0.0                             0.0   \n",
       "2411                                    0.0                             0.0   \n",
       "2412                                    0.0                             0.0   \n",
       "2413                                    0.0                             0.0   \n",
       "2414                                    0.0                             0.0   \n",
       "\n",
       "      secondary_focus_subject_Visual Arts  \\\n",
       "2410                                  0.0   \n",
       "2411                                  0.0   \n",
       "2412                                  0.0   \n",
       "2413                                  0.0   \n",
       "2414                                  0.0   \n",
       "\n",
       "      primary_focus_area_Applied Learning  primary_focus_area_Health & Sports  \\\n",
       "2410                                  0.0                                 0.0   \n",
       "2411                                  0.0                                 0.0   \n",
       "2412                                  0.0                                 0.0   \n",
       "2413                                  0.0                                 0.0   \n",
       "2414                                  0.0                                 0.0   \n",
       "\n",
       "      primary_focus_area_History & Civics  \\\n",
       "2410                                  0.0   \n",
       "2411                                  0.0   \n",
       "2412                                  0.0   \n",
       "2413                                  0.0   \n",
       "2414                                  0.0   \n",
       "\n",
       "      primary_focus_area_Literacy & Language  \\\n",
       "2410                                     0.0   \n",
       "2411                                     0.0   \n",
       "2412                                     0.0   \n",
       "2413                                     1.0   \n",
       "2414                                     0.0   \n",
       "\n",
       "      primary_focus_area_Math & Science  primary_focus_area_Music & The Arts  \\\n",
       "2410                                0.0                                  0.0   \n",
       "2411                                0.0                                  0.0   \n",
       "2412                                1.0                                  0.0   \n",
       "2413                                0.0                                  0.0   \n",
       "2414                                1.0                                  0.0   \n",
       "\n",
       "      primary_focus_area_Special Needs  secondary_focus_area_Applied Learning  \\\n",
       "2410                               1.0                                    0.0   \n",
       "2411                               1.0                                    0.0   \n",
       "2412                               0.0                                    1.0   \n",
       "2413                               0.0                                    0.0   \n",
       "2414                               0.0                                    0.0   \n",
       "\n",
       "      secondary_focus_area_Health & Sports  \\\n",
       "2410                                   0.0   \n",
       "2411                                   0.0   \n",
       "2412                                   0.0   \n",
       "2413                                   0.0   \n",
       "2414                                   0.0   \n",
       "\n",
       "      secondary_focus_area_History & Civics  \\\n",
       "2410                                    0.0   \n",
       "2411                                    0.0   \n",
       "2412                                    0.0   \n",
       "2413                                    0.0   \n",
       "2414                                    0.0   \n",
       "\n",
       "      secondary_focus_area_Literacy & Language  \\\n",
       "2410                                       0.0   \n",
       "2411                                       1.0   \n",
       "2412                                       0.0   \n",
       "2413                                       0.0   \n",
       "2414                                       0.0   \n",
       "\n",
       "      secondary_focus_area_Math & Science  \\\n",
       "2410                                  0.0   \n",
       "2411                                  0.0   \n",
       "2412                                  0.0   \n",
       "2413                                  0.0   \n",
       "2414                                  0.0   \n",
       "\n",
       "      secondary_focus_area_Music & The Arts  \\\n",
       "2410                                    1.0   \n",
       "2411                                    0.0   \n",
       "2412                                    0.0   \n",
       "2413                                    0.0   \n",
       "2414                                    0.0   \n",
       "\n",
       "      secondary_focus_area_Special Needs  resource_type_Books  \\\n",
       "2410                                 0.0                  0.0   \n",
       "2411                                 0.0                  0.0   \n",
       "2412                                 0.0                  0.0   \n",
       "2413                                 0.0                  1.0   \n",
       "2414                                 0.0                  0.0   \n",
       "\n",
       "      resource_type_Other  resource_type_Supplies  resource_type_Technology  \\\n",
       "2410                  0.0                     1.0                       0.0   \n",
       "2411                  0.0                     0.0                       1.0   \n",
       "2412                  0.0                     0.0                       1.0   \n",
       "2413                  0.0                     0.0                       0.0   \n",
       "2414                  0.0                     0.0                       1.0   \n",
       "\n",
       "      resource_type_Trips  resource_type_Visitors teacher_teach_for_america  \\\n",
       "2410                  0.0                     0.0                     False   \n",
       "2411                  0.0                     0.0                     False   \n",
       "2412                  0.0                     0.0                     False   \n",
       "2413                  0.0                     0.0                     False   \n",
       "2414                  0.0                     0.0                     False   \n",
       "\n",
       "      students_reached  poverty_level  grade_level  \\\n",
       "2410              11.0            3.0          3.0   \n",
       "2411              11.0            4.0          1.0   \n",
       "2412              24.0            2.0          4.0   \n",
       "2413             120.0            2.0          1.0   \n",
       "2414              23.0            4.0          1.0   \n",
       "\n",
       "      total_price_excluding_optional_support  school_state_La  \\\n",
       "2410                                  476.49                0   \n",
       "2411                                  627.33                0   \n",
       "2412                                 2085.00                0   \n",
       "2413                                  899.13                0   \n",
       "2414                                 1697.90                0   \n",
       "\n",
       "      teacher_prefix_Mr. & Mrs.  \n",
       "2410                          0  \n",
       "2411                          0  \n",
       "2412                          0  \n",
       "2413                          0  \n",
       "2414                          0  "
      ]
     },
     "execution_count": 136,
     "metadata": {},
     "output_type": "execute_result"
    }
   ],
   "source": [
    "ss.head()"
   ]
  },
  {
   "cell_type": "code",
   "execution_count": 148,
   "metadata": {
    "collapsed": false
   },
   "outputs": [],
   "source": [
    "ss = ss.fillna(value = 0)"
   ]
  },
  {
   "cell_type": "code",
   "execution_count": 162,
   "metadata": {
    "collapsed": false
   },
   "outputs": [
    {
     "data": {
      "text/plain": [
       "145"
      ]
     },
     "execution_count": 162,
     "metadata": {},
     "output_type": "execute_result"
    }
   ],
   "source": [
    "len(ss.columns)"
   ]
  },
  {
   "cell_type": "code",
   "execution_count": 250,
   "metadata": {
    "collapsed": false
   },
   "outputs": [],
   "source": [
    "ss = ss[list(x_train.columns)]"
   ]
  },
  {
   "cell_type": "code",
   "execution_count": 277,
   "metadata": {
    "collapsed": false
   },
   "outputs": [],
   "source": [
    "submission_predictions = RFC2.predict_proba(ss)"
   ]
  },
  {
   "cell_type": "code",
   "execution_count": 285,
   "metadata": {
    "collapsed": true
   },
   "outputs": [],
   "source": [
    "submission_predictions1 = RFC3.predict_proba(ss)"
   ]
  },
  {
   "cell_type": "code",
   "execution_count": 307,
   "metadata": {
    "collapsed": true
   },
   "outputs": [],
   "source": [
    "submission_predictions2 = RFC5.predict_proba(ss)"
   ]
  },
  {
   "cell_type": "code",
   "execution_count": 308,
   "metadata": {
    "collapsed": false
   },
   "outputs": [
    {
     "data": {
      "text/plain": [
       "array([[ 0.85750516,  0.14249484],\n",
       "       [ 0.89388786,  0.10611214],\n",
       "       [ 0.93374772,  0.06625228],\n",
       "       ..., \n",
       "       [ 0.91890825,  0.08109175],\n",
       "       [ 0.95840613,  0.04159387],\n",
       "       [ 0.93513474,  0.06486526]])"
      ]
     },
     "execution_count": 308,
     "metadata": {},
     "output_type": "execute_result"
    }
   ],
   "source": [
    "submission_predictions2"
   ]
  },
  {
   "cell_type": "code",
   "execution_count": 309,
   "metadata": {
    "collapsed": false
   },
   "outputs": [],
   "source": [
    "sp = pd.DataFrame(submission_predictions[:, 1])\n",
    "sp1 = pd.DataFrame(submission_predictions1[:, 1])\n",
    "sp2 = pd.DataFrame(submission_predictions2[:, 1])"
   ]
  },
  {
   "cell_type": "code",
   "execution_count": 310,
   "metadata": {
    "collapsed": true
   },
   "outputs": [],
   "source": [
    "sp['projectid'] = ss.index\n",
    "sp1['projectid'] = ss.index\n",
    "sp2['projectid'] = ss.index"
   ]
  },
  {
   "cell_type": "code",
   "execution_count": 311,
   "metadata": {
    "collapsed": false
   },
   "outputs": [],
   "source": [
    "submission_set.head()\n",
    "ss.index = submission_set['projectid']"
   ]
  },
  {
   "cell_type": "code",
   "execution_count": 312,
   "metadata": {
    "collapsed": true
   },
   "outputs": [],
   "source": [
    "sp1.columns = ['is_exciting', 'projectid']\n",
    "sp2.columns = ['is_exciting', 'projectid']"
   ]
  },
  {
   "cell_type": "code",
   "execution_count": 313,
   "metadata": {
    "collapsed": true
   },
   "outputs": [],
   "source": [
    "sp2.to_csv(\"kdd_submission\", index = False)"
   ]
  },
  {
   "cell_type": "code",
   "execution_count": 93,
   "metadata": {
    "collapsed": false
   },
   "outputs": [],
   "source": [
    "for column in sub_set.columns: \n",
    "        if column != \"teacher_prefix_\":\n",
    "            if pd.isnull(X[column]).sum() != 0:\n",
    "                print column\n",
    "                print pd.isnull(X[column]).sum()"
   ]
  },
  {
   "cell_type": "markdown",
   "metadata": {},
   "source": [
    "### Other Methods"
   ]
  },
  {
   "cell_type": "code",
   "execution_count": 92,
   "metadata": {
    "collapsed": false,
    "scrolled": false
   },
   "outputs": [
    {
     "data": {
      "text/plain": [
       "array([ 0.91714,  0.91714,  0.91715])"
      ]
     },
     "execution_count": 92,
     "metadata": {},
     "output_type": "execute_result"
    }
   ],
   "source": [
    "cross_val_score(RandomForestClassifier(), X, y)"
   ]
  },
  {
   "cell_type": "code",
   "execution_count": 98,
   "metadata": {
    "collapsed": false
   },
   "outputs": [],
   "source": [
    "x_train, x_test, y_train, y_test = train_test_split(X, y, test_size=.30, random_state=4444)"
   ]
  },
  {
   "cell_type": "code",
   "execution_count": 104,
   "metadata": {
    "collapsed": false
   },
   "outputs": [
    {
     "data": {
      "text/plain": [
       "0.5"
      ]
     },
     "execution_count": 104,
     "metadata": {},
     "output_type": "execute_result"
    }
   ],
   "source": [
    "DT = DecisionTreeClassifier()\n",
    "DT.fit(x_train, y_train) \n",
    "roc_auc_score(y_test, DT.predict(x_test))"
   ]
  },
  {
   "cell_type": "code",
   "execution_count": 115,
   "metadata": {
    "collapsed": false
   },
   "outputs": [
    {
     "name": "stdout",
     "output_type": "stream",
     "text": [
      "0.539140024189\n",
      "(array([ 0.92274289,  0.15761463]), array([ 0.92513765,  0.1531424 ]), array([ 0.92393871,  0.15534633]), array([82458,  7542]))\n",
      "0.153142402546\n"
     ]
    }
   ],
   "source": [
    "NB = GaussianNB()\n",
    "NB.fit(x_train, y_train) \n",
    "print roc_auc_score(y_test, NB.predict(x_test))\n",
    "print precision_recall_fscore_support(y_test, NB.predict(x_test)) # reports for each class\n",
    "print recall_score(y_test, NB.predict(x_test))\n",
    "# ratio of true positive to everything we said was positive"
   ]
  },
  {
   "cell_type": "markdown",
   "metadata": {},
   "source": [
    ".92 precision for non-funded, so 92% of projects we predict aren't funded are, indeed, not funded. \n",
    "\n",
    "Only .157 precision for funded, so just 15% of projects we label as funded are actually funded projects. \n",
    "\n",
    ".925 recall for non-funded, we got 92% of the non-funded classified as non-funded. Meanwhile, only 15% of funded were correctly labeled as funded. "
   ]
  },
  {
   "cell_type": "code",
   "execution_count": 125,
   "metadata": {
    "collapsed": false
   },
   "outputs": [
    {
     "name": "stdout",
     "output_type": "stream",
     "text": [
      "[[76285  6173]\n",
      " [ 6387  1155]]\n"
     ]
    }
   ],
   "source": [
    "print confusion_matrix(y_test, NB.predict(x_test), labels=None)"
   ]
  },
  {
   "cell_type": "code",
   "execution_count": 99,
   "metadata": {
    "collapsed": false
   },
   "outputs": [
    {
     "name": "stdout",
     "output_type": "stream",
     "text": [
      "0.9162\n"
     ]
    }
   ],
   "source": [
    "DT = DecisionTreeClassifier()\n",
    "DT.fit(x_train, y_train) \n",
    "print accuracy_score(y_test, DT.predict(x_test))"
   ]
  },
  {
   "cell_type": "code",
   "execution_count": 107,
   "metadata": {
    "collapsed": false
   },
   "outputs": [
    {
     "name": "stdout",
     "output_type": "stream",
     "text": [
      "0.0\n"
     ]
    }
   ],
   "source": [
    "DT = DecisionTreeClassifier()\n",
    "DT.fit(x_train, y_train) \n",
    "print recall_score(y_test, DT.predict(x_test))"
   ]
  }
 ],
 "metadata": {
  "kernelspec": {
   "display_name": "Python 2",
   "language": "python",
   "name": "python2"
  },
  "language_info": {
   "codemirror_mode": {
    "name": "ipython",
    "version": 2
   },
   "file_extension": ".py",
   "mimetype": "text/x-python",
   "name": "python",
   "nbconvert_exporter": "python",
   "pygments_lexer": "ipython2",
   "version": "2.7.11"
  }
 },
 "nbformat": 4,
 "nbformat_minor": 0
}
